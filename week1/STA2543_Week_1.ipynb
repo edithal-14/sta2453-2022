{
  "nbformat": 4,
  "nbformat_minor": 0,
  "metadata": {
    "colab": {
      "provenance": [],
      "collapsed_sections": []
    },
    "kernelspec": {
      "name": "python3",
      "display_name": "Python 3"
    },
    "language_info": {
      "name": "python"
    }
  },
  "cells": [
    {
      "cell_type": "markdown",
      "source": [
        "\n",
        "# Week 1 STA 2543\n",
        "---\n",
        "\n",
        "For the purposes of lectures I will be using google colab due to its preconfigured environment. However, you should familiarize yourself with the linux environment, setting it up on your machine be it Windows or Mac, learning how to use the bash shell command line interface, these skills are highly relevant during both the workplace, and the interview process as illustrated by the lecture slides. \n",
        "\n",
        "## Preamble\n",
        "\n",
        "These are the python libraries I will be using for the course. \n"
      ],
      "metadata": {
        "id": "22NXU6Gjc9gE"
      }
    },
    {
      "cell_type": "code",
      "source": [
        "import numpy as np # basic vector/matrix math\n",
        "import matplotlib.pyplot as plt # plotting and illustrations \n",
        "import seaborn as sns # advanced plotting and illustrations. \n",
        "import pandas as pd # data loading, saving, and general data manipulation. \n",
        "import scipy.stats as stats # inter alia, statistical distributions, functions and relevant objects.\n",
        "import scipy.optimize as optimize \n",
        "import torch # ML/AI model's and general optimization "
      ],
      "metadata": {
        "id": "Syi6rFS2dDkQ"
      },
      "execution_count": null,
      "outputs": []
    },
    {
      "cell_type": "markdown",
      "source": [
        "### Basic Linux CLI"
      ],
      "metadata": {
        "id": "QGMKlwD7lDjn"
      }
    },
    {
      "cell_type": "code",
      "source": [
        "ls # list files in current directory "
      ],
      "metadata": {
        "colab": {
          "base_uri": "https://localhost:8080/"
        },
        "id": "Ya_CqBUSeqPp",
        "outputId": "ae20feae-aa6f-4c92-a940-b36313937670"
      },
      "execution_count": null,
      "outputs": [
        {
          "output_type": "stream",
          "name": "stdout",
          "text": [
            "\u001b[0m\u001b[01;34msample_data\u001b[0m/\n"
          ]
        }
      ]
    },
    {
      "cell_type": "code",
      "source": [
        "pwd # get current location respective of global. "
      ],
      "metadata": {
        "colab": {
          "base_uri": "https://localhost:8080/",
          "height": 35
        },
        "id": "Ya-SwAdGfAz3",
        "outputId": "320df164-2ded-41b7-acc3-710f763abad5"
      },
      "execution_count": null,
      "outputs": [
        {
          "output_type": "execute_result",
          "data": {
            "text/plain": [
              "'/content'"
            ],
            "application/vnd.google.colaboratory.intrinsic+json": {
              "type": "string"
            }
          },
          "metadata": {},
          "execution_count": 3
        }
      ]
    },
    {
      "cell_type": "code",
      "source": [
        "!wget https://raw.githubusercontent.com/nikpocuca/sta2453-2022.github.io/master/SH_CLAY_11_4051.csv # get file from my repo"
      ],
      "metadata": {
        "colab": {
          "base_uri": "https://localhost:8080/"
        },
        "id": "DF0g25jdfsJI",
        "outputId": "5f98d62f-2ec5-43ee-ed79-65855c217458"
      },
      "execution_count": null,
      "outputs": [
        {
          "output_type": "stream",
          "name": "stdout",
          "text": [
            "--2022-09-14 20:20:41--  https://raw.githubusercontent.com/nikpocuca/sta2453-2022.github.io/master/SH_CLAY_11_4051.csv\n",
            "Resolving raw.githubusercontent.com (raw.githubusercontent.com)... 185.199.108.133, 185.199.109.133, 185.199.110.133, ...\n",
            "Connecting to raw.githubusercontent.com (raw.githubusercontent.com)|185.199.108.133|:443... connected.\n",
            "HTTP request sent, awaiting response... 200 OK\n",
            "Length: 228929 (224K) [text/plain]\n",
            "Saving to: ‘SH_CLAY_11_4051.csv’\n",
            "\n",
            "\rSH_CLAY_11_4051.csv   0%[                    ]       0  --.-KB/s               \rSH_CLAY_11_4051.csv 100%[===================>] 223.56K  --.-KB/s    in 0.02s   \n",
            "\n",
            "2022-09-14 20:20:41 (13.3 MB/s) - ‘SH_CLAY_11_4051.csv’ saved [228929/228929]\n",
            "\n"
          ]
        }
      ]
    },
    {
      "cell_type": "code",
      "source": [
        "ls"
      ],
      "metadata": {
        "colab": {
          "base_uri": "https://localhost:8080/"
        },
        "id": "9hHyS3tSSYC7",
        "outputId": "d3d3a5ee-8018-4a11-d870-dec38800a9d1"
      },
      "execution_count": null,
      "outputs": [
        {
          "output_type": "stream",
          "name": "stdout",
          "text": [
            "\u001b[0m\u001b[01;34msample_data\u001b[0m/  SH_CLAY_11_4051.csv\n"
          ]
        }
      ]
    },
    {
      "cell_type": "code",
      "source": [
        "!wget https://raw.githubusercontent.com/nikpocuca/sta2453-2022.github.io/master/results.csv"
      ],
      "metadata": {
        "colab": {
          "base_uri": "https://localhost:8080/"
        },
        "id": "TLUnezL9pmTf",
        "outputId": "d521faa2-2ac8-4f95-e852-7a23630408d3"
      },
      "execution_count": null,
      "outputs": [
        {
          "output_type": "stream",
          "name": "stdout",
          "text": [
            "--2022-09-14 03:36:38--  https://raw.githubusercontent.com/nikpocuca/sta2453-2022.github.io/master/results.csv\n",
            "Resolving raw.githubusercontent.com (raw.githubusercontent.com)... 185.199.108.133, 185.199.109.133, 185.199.110.133, ...\n",
            "Connecting to raw.githubusercontent.com (raw.githubusercontent.com)|185.199.108.133|:443... connected.\n",
            "HTTP request sent, awaiting response... 200 OK\n",
            "Length: 460008 (449K) [text/plain]\n",
            "Saving to: ‘results.csv’\n",
            "\n",
            "results.csv         100%[===================>] 449.23K  --.-KB/s    in 0.03s   \n",
            "\n",
            "2022-09-14 03:36:38 (15.5 MB/s) - ‘results.csv’ saved [460008/460008]\n",
            "\n"
          ]
        }
      ]
    },
    {
      "cell_type": "markdown",
      "source": [
        "## Advanced Descriptive Statistics\n",
        "\n",
        "Let's begin with an applied dive into descriptive statistics. \n",
        "\n",
        "- Sample mean\n",
        "- Sample variance\n",
        "- Sample median \n",
        "- Sample quantiles, min/max, and others..\n"
      ],
      "metadata": {
        "id": "KLAdTg76lHgP"
      }
    },
    {
      "cell_type": "code",
      "source": [
        "# generate normal dataset. \n",
        "x = np.random.normal(0.0, 1.0, size=(1000))\n",
        "plt.hist(x, bins= 50);"
      ],
      "metadata": {
        "id": "wd7mIGLYk3pB",
        "colab": {
          "base_uri": "https://localhost:8080/",
          "height": 265
        },
        "outputId": "823f70b2-da4d-4dea-b62d-ce6d271d0163"
      },
      "execution_count": null,
      "outputs": [
        {
          "output_type": "display_data",
          "data": {
            "text/plain": [
              "<Figure size 432x288 with 1 Axes>"
            ],
            "image/png": "[encoded data removed]"
          },
          "metadata": {
            "needs_background": "light"
          }
        }
      ]
    },
    {
      "cell_type": "code",
      "source": [
        "# write functions that calculate the above statistics, although \n",
        "# some of these functions already exist in numpy I will be verbose about this. \n",
        "\n",
        "def sample_mean(x: np.array) -> float: \n",
        "  \"\"\"\n",
        "  calculate the sample mean of a np array\n",
        "  \"\"\"\n",
        "  return(np.mean(x))\n",
        "\n",
        "def sample_variance(x: np.array) -> float: \n",
        "  \"\"\"\n",
        "    calculate the second sample moment. \n",
        "  \"\"\"\n",
        "\n",
        "  n = x.shape[0]\n",
        "  m2 = np.sum( (x - sample_mean(x)) **2 ) / n \n",
        "  return (m2)\n",
        "\n",
        "def sample_median(x: np.array) -> float:\n",
        "  \"\"\"\n",
        "    50% quantile really. \n",
        "  \"\"\"\n",
        "  return (np.median(x))\n",
        "\n",
        "def sample_min(x: np.array) -> float:\n",
        "  \"\"\"\n",
        "    smallest number in an array\n",
        "  \"\"\"\n",
        "  return np.min(x)\n",
        "\n",
        "def sample_max(x: np.array)-> float: \n",
        "  \"\"\"\n",
        "    largest number in an array\n",
        "  \"\"\"\n",
        "\n",
        "  return np.max(x)\n",
        "\n",
        "def display_statistics(x: np.array) -> None: \n",
        "  \"\"\"\n",
        "    Display's an f'string formatted to min, median, mean and max for\n",
        "    basic statistics. \n",
        "  \"\"\"\n",
        "  x_min = sample_min(x)\n",
        "  x_med = sample_median(x)\n",
        "  x_mean = sample_mean(x)\n",
        "  x_max = sample_max(x)\n",
        "\n",
        "  display_string = f\"Min: {x_min}, Median: {x_med}, Mean: {x_mean}, Max: {x_max} \"\n",
        "  print(display_string)"
      ],
      "metadata": {
        "id": "05ucHC-Zm8AS"
      },
      "execution_count": null,
      "outputs": []
    },
    {
      "cell_type": "code",
      "source": [
        "display_statistics(x)"
      ],
      "metadata": {
        "colab": {
          "base_uri": "https://localhost:8080/"
        },
        "id": "75WWVjwwqbu4",
        "outputId": "b4e1449a-da19-4526-f4a8-d35fed0752f6"
      },
      "execution_count": null,
      "outputs": [
        {
          "output_type": "stream",
          "name": "stdout",
          "text": [
            "Min: -3.3786727701583446, Median: -0.046756493870083515, Mean: -0.04760278335719984, Max: 2.830273490747334 \n"
          ]
        }
      ]
    },
    {
      "cell_type": "markdown",
      "source": [
        "## Kurtosis and Skewness\n",
        "These measures are concerned with the deviation from normality. \n",
        "\n",
        "- Departure from Symmetry\n",
        "- How peaked the data is... or... according to Peter Westfall, how fat the tails are. "
      ],
      "metadata": {
        "id": "OSl4jNPHqj1e"
      }
    },
    {
      "cell_type": "code",
      "source": [
        "def sample_skewness(x: np.array) -> float: \n",
        "    \"\"\"\n",
        "        Takes in a given x, \n",
        "        calculate sample mean, \n",
        "        sample std, and then calculate sample skewness.\n",
        "    \"\"\"\n",
        "    \n",
        "    # calculate sample mean. \n",
        "    n = x.shape[0]\n",
        "    mu = sample_mean(x) \n",
        "    var = sample_variance(x)\n",
        "    var = var * (n-1) / n\n",
        "    \n",
        "    M3 = np.sum( ((x - mu) ** 3 / n) )\n",
        "    kappa = M3 / (var ** (1.5))\n",
        "    kappa = (np.sqrt(n * (n - 1)) / (n - 2)) * kappa\n",
        "    return kappa\n",
        "    \n",
        "def sample_eta(x: np.array) -> float: \n",
        "  \"\"\"\n",
        "  sample kurtosis accoridng to Cramer 1979\n",
        "  \"\"\"\n",
        "  n = x.shape[0]\n",
        "  xbar = sample_mean(x)\n",
        "  m4 = np.sum( (x - xbar) **4 ) /n\n",
        "  m2 = sample_variance(x)\n",
        "  eta = (n-1) / ((n-2) * (n-3)) * (   (n+1) * ( m4 / (m2**2))  + 6)   \n",
        "  return eta\n"
      ],
      "metadata": {
        "id": "wMR_DuIbF1Nu"
      },
      "execution_count": null,
      "outputs": []
    },
    {
      "cell_type": "code",
      "source": [
        "sample_eta(x)"
      ],
      "metadata": {
        "colab": {
          "base_uri": "https://localhost:8080/"
        },
        "id": "W_ToPBNYq6tM",
        "outputId": "553c364c-7618-404f-8960-457689d08bc2"
      },
      "execution_count": null,
      "outputs": [
        {
          "output_type": "execute_result",
          "data": {
            "text/plain": [
              "2.992040634318911"
            ]
          },
          "metadata": {},
          "execution_count": 12
        }
      ]
    },
    {
      "cell_type": "markdown",
      "source": [
        "## Generate Scenarios of Gaussian Data\n",
        "Acquire a distribution of statistics. "
      ],
      "metadata": {
        "id": "laPmL1qyGun6"
      }
    },
    {
      "cell_type": "code",
      "source": [
        "\n",
        "def generate_scenarios(scenarios = 1000, n_size = 1000): \n",
        "    \"\"\"\n",
        "        A function for understanding what a p value is. \n",
        "    \"\"\"\n",
        "\n",
        "    p_values = np.zeros(scenarios, dtype=\"float64\")\n",
        "    skewnesses = np.zeros(scenarios, dtype=\"float64\")\n",
        "    kurtosis = np.zeros(scenarios, dtype=\"float64\")\n",
        "    \n",
        "    # for each scenario...\n",
        "    for i in range(scenarios):\n",
        "            \n",
        "        # generate data. \n",
        "        x_i = np.random.normal(loc = 0.0, scale = 1.0, size = n_size) \n",
        "        # x_i = np.exp(x_i) - 1\n",
        "        \n",
        "        mu_i = sample_mean(x_i)\n",
        "        sigma_i = np.sqrt(sample_variance(x_i))            \n",
        "        \n",
        "        # we are going to use a t-statistic here. \n",
        "        t_statistic = (mu_i/ (sigma_i / np.sqrt(n_size))) # adjust variance accordingly. \n",
        "        \n",
        "        # calculate the p value of said t-statistic. \n",
        "        p_value = stats.norm(0,1).cdf(t_statistic)\n",
        "        p_values[i] = p_value\n",
        "        skewnesses[i] = sample_skewness(x_i) \n",
        "        kurtosis[i] = sample_eta(x_i)\n",
        "\n",
        "    return p_values, skewnesses, kurtosis\n"
      ],
      "metadata": {
        "id": "t7cfsqWeGe-e"
      },
      "execution_count": null,
      "outputs": []
    },
    {
      "cell_type": "code",
      "source": [
        "# should approximately be 5% for p_value rejections. \n",
        "p_vals, skews, etas = generate_scenarios(1000, 1000)"
      ],
      "metadata": {
        "id": "Rtp803o2HFrH"
      },
      "execution_count": null,
      "outputs": []
    },
    {
      "cell_type": "code",
      "source": [
        "# show p-values. \n",
        "plt.hist(p_vals, bins = 50);\n",
        "reject_p_values = np.sum(p_vals < 0.05)/1000 * 100\n",
        "plt.title(f\"Distribution of P-Values {reject_p_values}%\")"
      ],
      "metadata": {
        "colab": {
          "base_uri": "https://localhost:8080/",
          "height": 298
        },
        "id": "JXcmi2NrGUkp",
        "outputId": "b364aac8-c641-4397-9bed-e0f55132e9be"
      },
      "execution_count": null,
      "outputs": [
        {
          "output_type": "execute_result",
          "data": {
            "text/plain": [
              "Text(0.5, 1.0, 'Distribution of P-Values 6.5%')"
            ]
          },
          "metadata": {},
          "execution_count": 15
        },
        {
          "output_type": "display_data",
          "data": {
            "text/plain": [
              "<Figure size 432x288 with 1 Axes>"
            ],
            "image/png": "[encoded data removed]"
          },
          "metadata": {
            "needs_background": "light"
          }
        }
      ]
    },
    {
      "cell_type": "code",
      "source": [
        "# distribution of skews. \n",
        "plt.hist(skews, bins = 50);\n",
        "plt.title(f\"Distribution of Sample Skewness For a Gaussian\")"
      ],
      "metadata": {
        "colab": {
          "base_uri": "https://localhost:8080/",
          "height": 298
        },
        "id": "3pfFkGLkHakL",
        "outputId": "443ed332-73f7-4634-d1df-fccdca4f90a7"
      },
      "execution_count": null,
      "outputs": [
        {
          "output_type": "execute_result",
          "data": {
            "text/plain": [
              "Text(0.5, 1.0, 'Distribution of Sample Skewness For a Gaussian')"
            ]
          },
          "metadata": {},
          "execution_count": 43
        },
        {
          "output_type": "display_data",
          "data": {
            "text/plain": [
              "<Figure size 432x288 with 1 Axes>"
            ],
            "image/png": "[encoded data removed]"
          },
          "metadata": {
            "needs_background": "light"
          }
        }
      ]
    },
    {
      "cell_type": "code",
      "source": [
        "# distribution of kurtosis, should be centered around 3.0 \n",
        "plt.hist(etas, bins = 50);\n",
        "plt.title(f\"Distribution of Sample Kurtosis For a Gaussian\")"
      ],
      "metadata": {
        "colab": {
          "base_uri": "https://localhost:8080/",
          "height": 298
        },
        "id": "q7oT8WGIH52f",
        "outputId": "41894203-0230-4ea5-9bce-b278104fc748"
      },
      "execution_count": null,
      "outputs": [
        {
          "output_type": "execute_result",
          "data": {
            "text/plain": [
              "Text(0.5, 1.0, 'Distribution of Sample Kurtosis For a Gaussian')"
            ]
          },
          "metadata": {},
          "execution_count": 45
        },
        {
          "output_type": "display_data",
          "data": {
            "text/plain": [
              "<Figure size 432x288 with 1 Axes>"
            ],
            "image/png": "[encoded data removed]"
          },
          "metadata": {
            "needs_background": "light"
          }
        }
      ]
    },
    {
      "cell_type": "markdown",
      "source": [
        "## Real Dataset\n",
        "\n",
        "EM vs. Stochastic EM benchmarks, which algorithm performs better? "
      ],
      "metadata": {
        "id": "bedIqmp0ILco"
      }
    },
    {
      "cell_type": "code",
      "source": [
        "df = pd.read_csv(\"results.csv\")"
      ],
      "metadata": {
        "id": "YZmeiupXcvNR"
      },
      "execution_count": null,
      "outputs": []
    },
    {
      "cell_type": "code",
      "source": [
        "plt.hist(np.log(df.EM.to_numpy()), bins = 50);"
      ],
      "metadata": {
        "colab": {
          "base_uri": "https://localhost:8080/",
          "height": 265
        },
        "id": "kJUTPvD6cyWp",
        "outputId": "8dad3437-4c2a-4a74-9b46-3d4aa893e4e4"
      },
      "execution_count": null,
      "outputs": [
        {
          "output_type": "display_data",
          "data": {
            "text/plain": [
              "<Figure size 432x288 with 1 Axes>"
            ],
            "image/png": "[encoded data removed]"
          },
          "metadata": {
            "needs_background": "light"
          }
        }
      ]
    },
    {
      "cell_type": "code",
      "source": [
        "plt.hist(np.log(df[\" SEM\"].to_numpy()), bins = 50);"
      ],
      "metadata": {
        "colab": {
          "base_uri": "https://localhost:8080/",
          "height": 265
        },
        "id": "AKWTKBRwcy7k",
        "outputId": "949a9dcb-a85b-4b9b-a7f4-77d52a5ff048"
      },
      "execution_count": null,
      "outputs": [
        {
          "output_type": "display_data",
          "data": {
            "text/plain": [
              "<Figure size 432x288 with 1 Axes>"
            ],
            "image/png": "[encoded data removed]"
          },
          "metadata": {
            "needs_background": "light"
          }
        }
      ]
    },
    {
      "cell_type": "code",
      "source": [
        "print(f\"EM min: {np.min(df.EM.to_numpy())} \")\n",
        "print(f\"EM median: {np.median(df.EM.to_numpy())} \")\n",
        "print(f\"EM mean: {np.mean(df.EM.to_numpy())} \")\n",
        "print(f\"EM maximum: {np.max(df.EM.to_numpy())}\")"
      ],
      "metadata": {
        "colab": {
          "base_uri": "https://localhost:8080/"
        },
        "id": "PF9I_OcCddtF",
        "outputId": "c398fff7-b185-46de-9757-26789f8b7cdc"
      },
      "execution_count": null,
      "outputs": [
        {
          "output_type": "stream",
          "name": "stdout",
          "text": [
            "EM min: 908.0 \n",
            "EM median: 2304.0 \n",
            "EM mean: 2316.4504 \n",
            "EM maximum: 322180.0\n"
          ]
        }
      ]
    },
    {
      "cell_type": "code",
      "source": [
        "print(f\"SEM min: {np.min(df[' SEM'].to_numpy())} \")\n",
        "print(f\"SEM median: {np.median(df[' SEM'].to_numpy())} \")\n",
        "print(f\"SEM mean: {np.mean(df[' SEM'].to_numpy())} \")\n",
        "print(f\"SEM maximum: {np.max(df[' SEM'].to_numpy())}\")"
      ],
      "metadata": {
        "colab": {
          "base_uri": "https://localhost:8080/"
        },
        "id": "xsHkfNM4dsDV",
        "outputId": "50ed8e8e-053f-4218-9972-f6b1f364ca6f"
      },
      "execution_count": null,
      "outputs": [
        {
          "output_type": "stream",
          "name": "stdout",
          "text": [
            "SEM min: 907.0 \n",
            "SEM median: 1466.0 \n",
            "SEM mean: 1738.1288 \n",
            "SEM maximum: 329304.0\n"
          ]
        }
      ]
    },
    {
      "cell_type": "markdown",
      "source": [
        "## Results \n",
        "\n",
        "The EM and SEM both have similar performances for the tail/extremes, however they different in overall performance. \n",
        "\n",
        "For example, \n",
        "\n",
        "in the best case scenario the SEM (907 ns) vs EM (908 ns) shows essentially equal performance. \n",
        "\n",
        "In the worst case they are also similar in performance with an SEM taking slightly longer but overall comparable. \n",
        "\n",
        "However in the majority of cases we find that the SEM outperforms the EM according to the mean, and median, indicating that for the majority of our timings, the SEM outperforms the EM, in a head to head (93.89% of the time)."
      ],
      "metadata": {
        "id": "MYNW9Q5yIiT2"
      }
    },
    {
      "cell_type": "code",
      "source": [
        "# check proportions. "
      ],
      "metadata": {
        "id": "l2KxA8IZI9uH"
      },
      "execution_count": null,
      "outputs": []
    },
    {
      "cell_type": "code",
      "source": [
        "sem_vs_em_prop = np.sum(df[\" SEM\"] < df[\"EM\"])/ df.shape[0] * 100\n",
        "print(f\"{sem_vs_em_prop}% of the time the SEM is faster. \")"
      ],
      "metadata": {
        "colab": {
          "base_uri": "https://localhost:8080/"
        },
        "id": "Ir0KpqT3JIQV",
        "outputId": "99c0237b-42e7-48f0-a82f-a027c39ff768"
      },
      "execution_count": null,
      "outputs": [
        {
          "output_type": "stream",
          "name": "stdout",
          "text": [
            "93.89% of the time the SEM is faster. \n"
          ]
        }
      ]
    },
    {
      "cell_type": "code",
      "source": [],
      "metadata": {
        "id": "3XFdh76iJQst"
      },
      "execution_count": null,
      "outputs": []
    }
  ]
}