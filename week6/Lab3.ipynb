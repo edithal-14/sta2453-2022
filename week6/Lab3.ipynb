{
 "cells": [
  {
   "cell_type": "code",
   "execution_count": 1,
   "metadata": {},
   "outputs": [
    {
     "name": "stderr",
     "output_type": "stream",
     "text": [
      "/home/vigu/pyenvs/pytorch_latest/lib/python3.8/site-packages/tqdm/auto.py:22: TqdmWarning: IProgress not found. Please update jupyter and ipywidgets. See https://ipywidgets.readthedocs.io/en/stable/user_install.html\n",
      "  from .autonotebook import tqdm as notebook_tqdm\n"
     ]
    }
   ],
   "source": [
    "import pandas as pd\n",
    "import seaborn as sns\n",
    "from sklearn.preprocessing import PowerTransformer\n",
    "from sklearn.mixture import GaussianMixture\n",
    "import numpy as np\n",
    "import matplotlib.pyplot as plt\n",
    "import scipy\n",
    "from scipy.stats import multivariate_normal\n",
    "import math as m\n",
    "\n",
    "# pytorch related stuf.. \n",
    "import torch\n",
    "from torch.nn import Module \n",
    "import torch.nn as nn \n",
    "from torch.nn.functional import softmax \n",
    "from tqdm import tqdm "
   ]
  },
  {
   "cell_type": "code",
   "execution_count": 2,
   "metadata": {},
   "outputs": [],
   "source": [
    "\n",
    "def plot_imputed_values(df, ax1, colors) -> None:\n",
    "    \"\"\"\n",
    "            Takes in a dataframe and spits out a figure named <fig_name>\n",
    "            \n",
    "            \n",
    "    \"\"\"\n",
    "    # plt.rcParams['text.usetex'] = True\n",
    "\n",
    "    marker_size = 15.0 \n",
    "    alpha = 0.8\n",
    "\n",
    "    #color_palatte = sns.color_palette(\"cubehelix\",7)\n",
    "    color_palatte = sns.color_palette(\"magma\", 20)\n",
    "    # colors = \"blue\" #df.labels.apply(lambda label: color_palatte[0])\n",
    "    edge_color = \"lightblue\"# colors\n",
    "\n",
    "    sns.scatterplot(x='R1', y='V1', data=df, ax=ax1, alpha=alpha, s=marker_size, edgecolor=edge_color, color=colors)\n",
    "\n",
    "\n",
    "def plot_li_vs_others(df, fig_name=\"li_vs_others.png\") -> None:\n",
    "    \"\"\"\n",
    "        Takes in a dataframe and spits out a figure named <fig_name>\n",
    "        \n",
    "        \n",
    "    \"\"\"\n",
    "    # plt.rcParams['text.usetex'] = True\n",
    "\n",
    "\n",
    "    fig, ax1 = plt.subplots(figsize=(10,3))\n",
    "    marker_size = 15.0\n",
    "    alpha = 0.8\n",
    "\n",
    " #   color_palatte = sns.color_palette(\"bright\",10)\n",
    "#    marker_color_idx = 7\n",
    "    marker_color = \"grey\"\n",
    "\n",
    "    ax1.set_title('')\n",
    "    sns.scatterplot(x='R1', y='V1', data=df, ax=ax1, alpha=alpha, s=marker_size, color=marker_color)\n",
    "    ax1.set_xlabel(r\"$R1$\")\n",
    "    ax1.set_ylabel(r\"$V1$\")\n",
    "\n",
    "    return ax1"
   ]
  },
  {
   "cell_type": "code",
   "execution_count": 3,
   "metadata": {},
   "outputs": [],
   "source": [
    "def density(xi_d, pis, mu_d, Ss_dd):\n",
    "    # Multivariate normal density\n",
    "    # f(x) = (1/2pi)^(p/2) * |Sigma|^(-1/2) * exp(-1/2 * (x - mu).T @ Sigma^(-1) @ (x - mu))\n",
    "    p = xi_d.shape[0]\n",
    "    leading_constant = (2 * np.pi) ** (-p / 2)\n",
    "    xm = xi_d - mu_d\n",
    "    xm = np.expand_dims(xm, axis=0)\n",
    "    Ss_inv = np.linalg.inv(Ss_dd)\n",
    "    res = (xm.transpose(1, 0, 2) @ Ss_inv).transpose(1, 0, 2)\n",
    "    res = np.exp(-0.5 * (res * xm).sum(-1))\n",
    "    res = pis * np.sqrt(np.linalg.det(Ss_inv)) * res * leading_constant\n",
    "    return res"
   ]
  },
  {
   "cell_type": "code",
   "execution_count": 4,
   "metadata": {},
   "outputs": [],
   "source": [
    "def conditional_mean_imputation(X: np.array, pis: np.array, mus: np.array, Ss: np.array):\n",
    "    mis_idx = pd.DataFrame(X).isna().to_numpy()\n",
    "    for i in range(X.shape[0]):\n",
    "        xis = X[i,:]\n",
    "        mis = mis_idx[i,:]\n",
    "        xi_d = xis[~mis]\n",
    "        mu_d = mus[:,~mis]\n",
    "        mu_m = mus[:,mis]\n",
    "        Ss_dd = Ss[:, ~mis][:,:,~mis]\n",
    "        Ss_md = Ss[:, mis][:,:,~mis]\n",
    "        Ss_mm = Ss[:, mis][:,:,mis]\n",
    "        dd_diff = np.expand_dims(xi_d - mu_d, -1)\n",
    "        lmatrix_term = Ss_md @ (np.linalg.inv(Ss_dd))\n",
    "        mu_tildes = mu_m + (lmatrix_term @ dd_diff)[:,:,0]\n",
    "\n",
    "        zigs = density(xi_d, pis, mu_d, Ss_dd)\n",
    "        zigs = zigs/zigs.sum()\n",
    "        zigs[0,-1] = 1 - zigs[0,:-1].sum()\n",
    "        zigs = zigs.transpose()\n",
    "        xi_m_imputed = (mu_tildes * zigs).sum(0)\n",
    "        xis[mis] = xi_m_imputed\n",
    "    return X"
   ]
  },
  {
   "cell_type": "code",
   "execution_count": 5,
   "metadata": {},
   "outputs": [],
   "source": [
    "df = pd.read_csv(\"st4.csv\")"
   ]
  },
  {
   "cell_type": "code",
   "execution_count": 6,
   "metadata": {},
   "outputs": [
    {
     "data": {
      "text/plain": [
       "(69, 5)"
      ]
     },
     "execution_count": 6,
     "metadata": {},
     "output_type": "execute_result"
    }
   ],
   "source": [
    "df.shape"
   ]
  },
  {
   "cell_type": "code",
   "execution_count": 7,
   "metadata": {},
   "outputs": [
    {
     "data": {
      "text/html": [
       "<div>\n",
       "<style scoped>\n",
       "    .dataframe tbody tr th:only-of-type {\n",
       "        vertical-align: middle;\n",
       "    }\n",
       "\n",
       "    .dataframe tbody tr th {\n",
       "        vertical-align: top;\n",
       "    }\n",
       "\n",
       "    .dataframe thead th {\n",
       "        text-align: right;\n",
       "    }\n",
       "</style>\n",
       "<table border=\"1\" class=\"dataframe\">\n",
       "  <thead>\n",
       "    <tr style=\"text-align: right;\">\n",
       "      <th></th>\n",
       "      <th>Unnamed: 0</th>\n",
       "      <th>R1</th>\n",
       "      <th>V1</th>\n",
       "      <th>R2</th>\n",
       "      <th>V2</th>\n",
       "    </tr>\n",
       "  </thead>\n",
       "  <tbody>\n",
       "    <tr>\n",
       "      <th>41</th>\n",
       "      <td>2046</td>\n",
       "      <td>75.0</td>\n",
       "      <td>63.0</td>\n",
       "      <td>88.0</td>\n",
       "      <td>73.0</td>\n",
       "    </tr>\n",
       "    <tr>\n",
       "      <th>53</th>\n",
       "      <td>1013</td>\n",
       "      <td>113.0</td>\n",
       "      <td>NaN</td>\n",
       "      <td>NaN</td>\n",
       "      <td>NaN</td>\n",
       "    </tr>\n",
       "    <tr>\n",
       "      <th>43</th>\n",
       "      <td>2054</td>\n",
       "      <td>NaN</td>\n",
       "      <td>NaN</td>\n",
       "      <td>115.0</td>\n",
       "      <td>NaN</td>\n",
       "    </tr>\n",
       "    <tr>\n",
       "      <th>61</th>\n",
       "      <td>3047</td>\n",
       "      <td>NaN</td>\n",
       "      <td>NaN</td>\n",
       "      <td>130.0</td>\n",
       "      <td>195.0</td>\n",
       "    </tr>\n",
       "    <tr>\n",
       "      <th>4</th>\n",
       "      <td>4008</td>\n",
       "      <td>118.0</td>\n",
       "      <td>140.0</td>\n",
       "      <td>118.0</td>\n",
       "      <td>123.0</td>\n",
       "    </tr>\n",
       "    <tr>\n",
       "      <th>29</th>\n",
       "      <td>1057</td>\n",
       "      <td>108.0</td>\n",
       "      <td>103.0</td>\n",
       "      <td>90.0</td>\n",
       "      <td>100.0</td>\n",
       "    </tr>\n",
       "    <tr>\n",
       "      <th>15</th>\n",
       "      <td>4020</td>\n",
       "      <td>112.0</td>\n",
       "      <td>115.0</td>\n",
       "      <td>93.0</td>\n",
       "      <td>140.0</td>\n",
       "    </tr>\n",
       "    <tr>\n",
       "      <th>42</th>\n",
       "      <td>2050</td>\n",
       "      <td>93.0</td>\n",
       "      <td>NaN</td>\n",
       "      <td>NaN</td>\n",
       "      <td>NaN</td>\n",
       "    </tr>\n",
       "    <tr>\n",
       "      <th>9</th>\n",
       "      <td>4014</td>\n",
       "      <td>NaN</td>\n",
       "      <td>145.0</td>\n",
       "      <td>139.0</td>\n",
       "      <td>185.0</td>\n",
       "    </tr>\n",
       "    <tr>\n",
       "      <th>63</th>\n",
       "      <td>3053</td>\n",
       "      <td>64.0</td>\n",
       "      <td>45.0</td>\n",
       "      <td>82.0</td>\n",
       "      <td>53.0</td>\n",
       "    </tr>\n",
       "  </tbody>\n",
       "</table>\n",
       "</div>"
      ],
      "text/plain": [
       "    Unnamed: 0     R1     V1     R2     V2\n",
       "41        2046   75.0   63.0   88.0   73.0\n",
       "53        1013  113.0    NaN    NaN    NaN\n",
       "43        2054    NaN    NaN  115.0    NaN\n",
       "61        3047    NaN    NaN  130.0  195.0\n",
       "4         4008  118.0  140.0  118.0  123.0\n",
       "29        1057  108.0  103.0   90.0  100.0\n",
       "15        4020  112.0  115.0   93.0  140.0\n",
       "42        2050   93.0    NaN    NaN    NaN\n",
       "9         4014    NaN  145.0  139.0  185.0\n",
       "63        3053   64.0   45.0   82.0   53.0"
      ]
     },
     "execution_count": 7,
     "metadata": {},
     "output_type": "execute_result"
    }
   ],
   "source": [
    "df.sample(10)"
   ]
  },
  {
   "cell_type": "code",
   "execution_count": 8,
   "metadata": {},
   "outputs": [],
   "source": [
    "df = df.iloc[1:,:]\n",
    "df = df.iloc[:, 1:3]\n",
    "df.columns = [\"R1\",\"V1\"]"
   ]
  },
  {
   "cell_type": "code",
   "execution_count": 9,
   "metadata": {},
   "outputs": [
    {
     "data": {
      "text/html": [
       "<div>\n",
       "<style scoped>\n",
       "    .dataframe tbody tr th:only-of-type {\n",
       "        vertical-align: middle;\n",
       "    }\n",
       "\n",
       "    .dataframe tbody tr th {\n",
       "        vertical-align: top;\n",
       "    }\n",
       "\n",
       "    .dataframe thead th {\n",
       "        text-align: right;\n",
       "    }\n",
       "</style>\n",
       "<table border=\"1\" class=\"dataframe\">\n",
       "  <thead>\n",
       "    <tr style=\"text-align: right;\">\n",
       "      <th></th>\n",
       "      <th>R1</th>\n",
       "      <th>V1</th>\n",
       "    </tr>\n",
       "  </thead>\n",
       "  <tbody>\n",
       "    <tr>\n",
       "      <th>52</th>\n",
       "      <td>127.0</td>\n",
       "      <td>138.0</td>\n",
       "    </tr>\n",
       "    <tr>\n",
       "      <th>40</th>\n",
       "      <td>NaN</td>\n",
       "      <td>NaN</td>\n",
       "    </tr>\n",
       "    <tr>\n",
       "      <th>63</th>\n",
       "      <td>64.0</td>\n",
       "      <td>45.0</td>\n",
       "    </tr>\n",
       "    <tr>\n",
       "      <th>46</th>\n",
       "      <td>NaN</td>\n",
       "      <td>NaN</td>\n",
       "    </tr>\n",
       "    <tr>\n",
       "      <th>34</th>\n",
       "      <td>90.0</td>\n",
       "      <td>NaN</td>\n",
       "    </tr>\n",
       "    <tr>\n",
       "      <th>16</th>\n",
       "      <td>133.0</td>\n",
       "      <td>168.0</td>\n",
       "    </tr>\n",
       "    <tr>\n",
       "      <th>56</th>\n",
       "      <td>NaN</td>\n",
       "      <td>NaN</td>\n",
       "    </tr>\n",
       "    <tr>\n",
       "      <th>67</th>\n",
       "      <td>105.0</td>\n",
       "      <td>138.0</td>\n",
       "    </tr>\n",
       "    <tr>\n",
       "      <th>62</th>\n",
       "      <td>NaN</td>\n",
       "      <td>NaN</td>\n",
       "    </tr>\n",
       "    <tr>\n",
       "      <th>8</th>\n",
       "      <td>115.0</td>\n",
       "      <td>153.0</td>\n",
       "    </tr>\n",
       "  </tbody>\n",
       "</table>\n",
       "</div>"
      ],
      "text/plain": [
       "       R1     V1\n",
       "52  127.0  138.0\n",
       "40    NaN    NaN\n",
       "63   64.0   45.0\n",
       "46    NaN    NaN\n",
       "34   90.0    NaN\n",
       "16  133.0  168.0\n",
       "56    NaN    NaN\n",
       "67  105.0  138.0\n",
       "62    NaN    NaN\n",
       "8   115.0  153.0"
      ]
     },
     "execution_count": 9,
     "metadata": {},
     "output_type": "execute_result"
    }
   ],
   "source": [
    "df.sample(10)"
   ]
  },
  {
   "cell_type": "markdown",
   "metadata": {},
   "source": [
    "### Histogram before power transform"
   ]
  },
  {
   "cell_type": "code",
   "execution_count": 10,
   "metadata": {},
   "outputs": [
    {
     "data": {
      "text/plain": [
       "<seaborn.axisgrid.PairGrid at 0x7f42cd1fca60>"
      ]
     },
     "execution_count": 10,
     "metadata": {},
     "output_type": "execute_result"
    },
    {
     "data": {
      "image/png": "[encoded data removed]",
      "text/plain": [
       "<Figure size 500x500 with 6 Axes>"
      ]
     },
     "metadata": {},
     "output_type": "display_data"
    }
   ],
   "source": [
    "sns.pairplot(df)"
   ]
  },
  {
   "cell_type": "markdown",
   "metadata": {},
   "source": [
    "### Box-Cox power transform"
   ]
  },
  {
   "cell_type": "code",
   "execution_count": 11,
   "metadata": {},
   "outputs": [],
   "source": [
    "transformer = PowerTransformer(method=\"box-cox\")\n",
    "df_transform = transformer.fit_transform(df)\n",
    "df_transform = pd.DataFrame(df_transform)\n",
    "df_transform.columns = df.columns"
   ]
  },
  {
   "cell_type": "markdown",
   "metadata": {},
   "source": [
    "### Plot after Box-Cox power transform, looks more normal like"
   ]
  },
  {
   "cell_type": "code",
   "execution_count": 12,
   "metadata": {},
   "outputs": [
    {
     "data": {
      "text/plain": [
       "<seaborn.axisgrid.PairGrid at 0x7f42cab97430>"
      ]
     },
     "execution_count": 12,
     "metadata": {},
     "output_type": "execute_result"
    },
    {
     "data": {
      "image/png": "[encoded data removed]",
      "text/plain": [
       "<Figure size 500x500 with 6 Axes>"
      ]
     },
     "metadata": {},
     "output_type": "display_data"
    }
   ],
   "source": [
    "sns.pairplot(df_transform)"
   ]
  },
  {
   "cell_type": "markdown",
   "metadata": {},
   "source": [
    "### Imputation before transformation"
   ]
  },
  {
   "cell_type": "code",
   "execution_count": 13,
   "metadata": {},
   "outputs": [],
   "source": [
    "na_mask = df.isna().any(axis=1)\n",
    "df_na = df.loc[na_mask,:].copy()\n",
    "na_mask = df_na.isna().all(axis=1)\n",
    "df_na = df_na.loc[~na_mask,:]\n",
    "na_mask = df.isna().any(axis=1)\n",
    "df_clean = df.loc[~na_mask,:].copy()"
   ]
  },
  {
   "cell_type": "code",
   "execution_count": 14,
   "metadata": {},
   "outputs": [
    {
     "name": "stdout",
     "output_type": "stream",
     "text": [
      "G: 2, BIC: 590.6258073894841\n",
      "G: 3, BIC: 610.7123821561935\n",
      "G: 4, BIC: 618.4885203171094\n",
      "G: 5, BIC: 638.6088737918469\n",
      "G: 6, BIC: 617.5074998221844\n",
      "G: 7, BIC: 629.1843323488633\n",
      "G: 8, BIC: 585.4564960756089\n",
      "G: 9, BIC: 593.935359060823\n",
      "G: 10, BIC: 542.3756357293901\n",
      "G: 11, BIC: 559.949499894668\n",
      "Best G: 10, Best BIC: 542.3756357293901\n"
     ]
    }
   ],
   "source": [
    "# Mixture model\n",
    "Gs = range(2,12)\n",
    "best_bic = float(\"inf\")\n",
    "best_G = None\n",
    "best_model = None\n",
    "for G in Gs:\n",
    "    mm = GaussianMixture(n_components=G)\n",
    "    # fit \n",
    "    mm.fit(df_clean.to_numpy())\n",
    "    bic = mm.bic(df_clean.to_numpy())\n",
    "    print(f\"G: {G}, BIC: {bic}\")\n",
    "    if bic < best_bic:\n",
    "        best_bic = bic\n",
    "        best_G = G\n",
    "        best_model = mm\n",
    "print(f\"Best G: {best_G}, Best BIC: {best_bic}\")\n",
    "mus = best_model.means_\n",
    "ss = best_model.covariances_\n",
    "pis = best_model.weights_"
   ]
  },
  {
   "cell_type": "code",
   "execution_count": 15,
   "metadata": {},
   "outputs": [],
   "source": [
    "x_imputed_array = conditional_mean_imputation(df_na.copy().to_numpy(), pis, mus, ss)\n",
    "df_imputed = pd.DataFrame(x_imputed_array)\n",
    "df_imputed.columns = df_na.columns"
   ]
  },
  {
   "cell_type": "markdown",
   "metadata": {},
   "source": [
    "### Imputation scatterplot before transformation, blue points are imputed"
   ]
  },
  {
   "cell_type": "code",
   "execution_count": 16,
   "metadata": {},
   "outputs": [
    {
     "data": {
      "image/png": "[encoded data removed]",
      "text/plain": [
       "<Figure size 1000x300 with 1 Axes>"
      ]
     },
     "metadata": {},
     "output_type": "display_data"
    }
   ],
   "source": [
    "ax1 = plot_li_vs_others(df_clean)\n",
    "plot_imputed_values(df_imputed, ax1, colors=\"blue\")\n",
    "plt.show()"
   ]
  },
  {
   "cell_type": "markdown",
   "metadata": {},
   "source": [
    "### Data cleaning and imputation after transformation"
   ]
  },
  {
   "cell_type": "code",
   "execution_count": 17,
   "metadata": {},
   "outputs": [],
   "source": [
    "na_mask = df_transform.isna().any(axis=1)\n",
    "df_transform_na = df_transform.loc[na_mask,:].copy()\n",
    "na_mask = df_transform.isna().all(axis=1)\n",
    "df_transform_na = df_transform_na.loc[~na_mask,:]\n",
    "na_mask = df_transform.isna().any(axis=1)\n",
    "df_transform_clean = df_transform.loc[~na_mask,:].copy()"
   ]
  },
  {
   "cell_type": "code",
   "execution_count": 18,
   "metadata": {},
   "outputs": [
    {
     "name": "stdout",
     "output_type": "stream",
     "text": [
      "G: 2, BIC: 189.4916327209491\n",
      "G: 3, BIC: 198.3783289725534\n",
      "G: 4, BIC: 191.55448711723722\n",
      "G: 5, BIC: 217.52914012029328\n",
      "G: 6, BIC: 207.2866973839192\n",
      "G: 7, BIC: 220.26057628003872\n",
      "G: 8, BIC: 217.83448167910984\n",
      "G: 9, BIC: 225.5228752668162\n",
      "G: 10, BIC: 206.5535262627735\n",
      "G: 11, BIC: 198.1800841056517\n",
      "Best G: 2, Best BIC: 189.4916327209491\n"
     ]
    }
   ],
   "source": [
    "# Mixture model\n",
    "Gs = range(2,12)\n",
    "best_bic = float(\"inf\")\n",
    "best_G = None\n",
    "best_model = None\n",
    "for G in Gs:\n",
    "    mm = GaussianMixture(n_components=G)\n",
    "    # fit \n",
    "    mm.fit(df_transform_clean.to_numpy())\n",
    "    bic = mm.bic(df_transform_clean.to_numpy())\n",
    "    print(f\"G: {G}, BIC: {bic}\")\n",
    "    if bic < best_bic:\n",
    "        best_bic = bic\n",
    "        best_G = G\n",
    "        best_model = mm\n",
    "print(f\"Best G: {best_G}, Best BIC: {best_bic}\")\n",
    "mus = best_model.means_\n",
    "ss = best_model.covariances_\n",
    "pis = best_model.weights_"
   ]
  },
  {
   "cell_type": "code",
   "execution_count": 19,
   "metadata": {},
   "outputs": [],
   "source": [
    "x_imputed_array = conditional_mean_imputation(df_transform_na.copy().to_numpy(), pis, mus, ss)\n",
    "df_imputed = pd.DataFrame(x_imputed_array)\n",
    "df_imputed.columns = df_transform_na.columns"
   ]
  },
  {
   "cell_type": "markdown",
   "metadata": {},
   "source": [
    "### Inverse transformation"
   ]
  },
  {
   "cell_type": "code",
   "execution_count": 20,
   "metadata": {},
   "outputs": [],
   "source": [
    "df_inverse_transform_clean = transformer.inverse_transform(df_transform_clean)\n",
    "df_inverse_transform_clean = pd.DataFrame(df_inverse_transform_clean)\n",
    "df_inverse_transform_clean.columns = df_transform_clean.columns\n",
    "df_inverse_transform_na = transformer.inverse_transform(df_imputed)\n",
    "df_inverse_transform_na = pd.DataFrame(df_inverse_transform_na)\n",
    "df_inverse_transform_na.columns = df_imputed.columns"
   ]
  },
  {
   "cell_type": "markdown",
   "metadata": {},
   "source": [
    "### Imputation scatterplot after transformation, red points are imputed"
   ]
  },
  {
   "cell_type": "code",
   "execution_count": 21,
   "metadata": {},
   "outputs": [
    {
     "data": {
      "image/png": "[encoded data removed]",
      "text/plain": [
       "<Figure size 1000x300 with 1 Axes>"
      ]
     },
     "metadata": {},
     "output_type": "display_data"
    }
   ],
   "source": [
    "ax1 = plot_li_vs_others(df_inverse_transform_clean)\n",
    "plot_imputed_values(df_inverse_transform_na, ax1, colors=\"red\")\n",
    "plt.show()"
   ]
  },
  {
   "cell_type": "markdown",
   "metadata": {},
   "source": [
    "### Jointly training transformation and GMM using EM"
   ]
  },
  {
   "cell_type": "code",
   "execution_count": 22,
   "metadata": {},
   "outputs": [],
   "source": [
    "class GaussianMixtureModel(nn.Module):\n",
    "    \"\"\"\n",
    "        Class for Finite mixtures of Gaussian models. \n",
    "    \"\"\"\n",
    "   \n",
    "    def __init__(self, G:int, data: torch.Tensor):\n",
    "        \"\"\"\n",
    "            Constructor class for finite mixtures of linear models.  \n",
    "        \"\"\"\n",
    "        \n",
    "        if not isinstance(data, torch.Tensor):\n",
    "            raise Exception(\"data is not of torch.Tensor type\") \n",
    "\n",
    "        super(GaussianMixtureModel, self).__init__() \n",
    "\n",
    "        # define data \n",
    "        self.X = data\n",
    "\n",
    "        # define constants. \n",
    "        self.n = data.shape[0] \n",
    "        self.G = G if G > 0 else exec(\"raise Exception('G has to be valid')\") \n",
    "        self.p = self.X.shape[1]         \n",
    "\n",
    "        # Parameter for transformation, small value of lambda may cause\n",
    "        # loss to go nan initially, so multiply it with a constant\n",
    "        self.lambdas = torch.rand(self.p, 1)\n",
    "\n",
    "        # define actual parameters based on random chunking\n",
    "        self.mus = torch.zeros(G, self.p)\n",
    "        self.sigmas = torch.zeros(G, self.p, self.p)\n",
    "        for i, xs in enumerate(torch.chunk(self.transform(self.X), self.G)):\n",
    "            self.mus[i,:] = xs.mean(axis=0)\n",
    "            self.sigmas[i,:,:] = torch.cov(xs.T)\n",
    "        # define weights\n",
    "        self.w = torch.rand(G,1)\n",
    "\n",
    "        # latent variable matrix of dimension = n * G\n",
    "        self.z = np.random.normal(size=(self.n, self.G))\n",
    "        # Z_ij should sum up to one for all i's and a given j\n",
    "        self.z = scipy.special.softmax(self.z, axis=1)\n",
    "        self.z = torch.Tensor(self.z)\n",
    "\n",
    "        # set gradients. \n",
    "        self.w.requires_grad = True\n",
    "        self.mus.requires_grad = True\n",
    "        self.sigmas.requires_grad = True\n",
    "        self.lambdas.requires_grad = True\n",
    "\n",
    "        self.lbfgs_optimizer = torch.optim.LBFGS([self.lambdas], max_iter=1, lr=0.01)\n",
    "\n",
    "        self.leading_constant = - (self.p / 2) * torch.Tensor([2.0 * torch.pi]).log()\n",
    "    \n",
    "    def lbfgs_closure(self):\n",
    "        self.lbfgs_optimizer.zero_grad()\n",
    "        cost = self.objective_fn()\n",
    "        cost.backward() # compute gradient. \n",
    "        return cost\n",
    "\n",
    "    def compute_weights(self):\n",
    "        \"\"\"\n",
    "            get mixing proportions. \n",
    "        \"\"\"\n",
    "        return softmax(self.w[:,0], dim=0)\n",
    "\n",
    "    def transform(self, X):\n",
    "        # Box-cox transform\n",
    "        X_transform = torch.clone(X)\n",
    "        for p in range(self.p):\n",
    "            X_transform[:, p] = (X[:, p] ** self.lambdas[p] - 1) / self.lambdas[p]\n",
    "        return X_transform\n",
    "    \n",
    "    def inverse_transform(self, X):\n",
    "        # Inverse of box-cox transform\n",
    "        X_inv_transform = torch.clone(X)\n",
    "        for p in range(self.p):\n",
    "            X_inv_transform[:, p] = ((X[:, p] * self.lambdas[p]) + 1) ** (1 / self.lambdas[p])\n",
    "        return X_inv_transform\n",
    "\n",
    "    def log_density(self):\n",
    "        # Log of multivariate normal density\n",
    "        # f(x) = (1/2pi)^(p/2) * |Sigma|^(-1/2) * exp(-1/2 * (x - mu).T @ Sigma^(-1) @ (x - mu)) * |Jacobian|\n",
    "        # log(f(x))\n",
    "\n",
    "        X_transform = self.transform(self.X)\n",
    "        n = X_transform.shape[0]\n",
    "        ldens = torch.zeros(n, self.G) \n",
    "        for j in range(G):\n",
    "            Ss_inv = torch.linalg.inv(self.sigmas[j,:,:])\n",
    "            leading_constant_1 = - 0.5 * torch.linalg.det(self.sigmas[j,:,:]).log()\n",
    "            for i in range(n):\n",
    "                xm = (X_transform[i,:] - self.mus[j,:]).unsqueeze(1)\n",
    "                res = -0.5 * (xm.T @ Ss_inv @ xm)[0][0]\n",
    "                res += self.leading_constant.squeeze() + leading_constant_1\n",
    "                # Add log jacobian for box-cox transform\n",
    "                res += (self.X[i, :].log().unsqueeze(0) @ (self.lambdas - 1))[0][0]\n",
    "                ldens[i][j] = res\n",
    "        return ldens\n",
    "\n",
    "    def objective_fn(self):\n",
    "        \"\"\"\n",
    "            Objective function to minimize on, \n",
    "            takes in an (n x d + 1) matrix with the response variable \n",
    "            in the first column \n",
    "        \"\"\"\n",
    "        \n",
    "        # compute log densities. \n",
    "        dens = self.log_density().exp() \n",
    "\n",
    "        # get weights. \n",
    "        W = self.compute_weights() \n",
    "        \n",
    "        return -((dens * W).sum(-1).log()).sum() \n",
    "        \n",
    "    def train(self, lr=1e-3, max_iterations=1000): \n",
    "        \"\"\"\n",
    "            train using some gradient descent algorithm \n",
    "        \"\"\"\n",
    "\n",
    "        # define optimizer \n",
    "        optimizer = torch.optim.Adam([self.w,\n",
    "                                      self.mus, \n",
    "                                      self.sigmas], lr=lr)\n",
    "        # track loss \n",
    "        loss = np.zeros(max_iterations)\n",
    "        tq_obj = tqdm(range(max_iterations), desc=\"Model Training\")\n",
    "       \n",
    "        for it in tq_obj:\n",
    "            optimizer.zero_grad() \n",
    "            cost = self.objective_fn(self.X)\n",
    "            cost.backward() # compute gradient. \n",
    "            optimizer.step() \n",
    "\n",
    "            loss[it] = cost.data.cpu().numpy() \n",
    "            \n",
    "            # log the loss. \n",
    "            if it % 100 == 0:    \n",
    "                tqdm.write(f\"Loss: {loss[it]}  λ: {optimizer.param_groups[0].get('lr')}\")\n",
    "\n",
    "    def BIC(self):\n",
    "        \"\"\"\n",
    "            Calculates the Bayesian Information Criterion for model performance comparisons.\n",
    "        \"\"\"\n",
    "\n",
    "        # calculate number of parameters. \n",
    "        rho = self.mus.numel() + self.sigmas.numel() + self.w.numel()\n",
    "        bic = self.objective_fn() * (-2.0) - rho * m.log(self.X.shape[0])\n",
    "        return float(bic.detach())\n",
    "\n",
    "    def Estep(self):\n",
    "        \"\"\"\n",
    "            Computes the expectation step using parameters for X ,y\n",
    "        \"\"\"\n",
    "        \n",
    "        with torch.no_grad():\n",
    "            dens = self.log_density().exp()\n",
    "\n",
    "            W = self.compute_weights() \n",
    "            dens = dens * W\n",
    "            \n",
    "            d_sum = dens.sum(-1).unsqueeze(-1)\n",
    "            dens = dens / d_sum \n",
    "\n",
    "        self.z = dens\n",
    "\n",
    "    def Mstep(self):\n",
    "        \"\"\"\n",
    "        Estimate parameters to maximize likelihood\n",
    "        \"\"\"\n",
    "        X_transform = self.transform(self.X)\n",
    "        with torch.no_grad():\n",
    "            self.w = (self.z.sum(axis=0)/self.z.shape[0]).unsqueeze(-1)\n",
    "            for g in range(self.G):\n",
    "                self.mus[g,:] = (self.z[:,g].unsqueeze(-1) * X_transform).sum(0) / self.z[:,g].sum()\n",
    "            for g in range(self.G):\n",
    "                xm = X_transform - self.mus[g,:]\n",
    "                self.sigmas[g,:,:] = ((xm.T * self.z[:,g]) @ xm) / self.z[:,g].sum()\n",
    "        # Estimate lambdas using LBFGS\n",
    "        self.lbfgs_optimizer.step(self.lbfgs_closure) \n",
    "\n",
    "    def train_EM(self, max_iter=10):\n",
    "        \"\"\"Run EM algorithm\"\"\"\n",
    "        for it in tqdm(range(max_iter), desc=\"Running EM algo\"):\n",
    "            self.Estep()\n",
    "            self.Mstep()\n",
    "\n",
    "        print(f\"Loss: {self.objective_fn()}\")"
   ]
  },
  {
   "cell_type": "markdown",
   "metadata": {},
   "source": [
    "### Run it now!"
   ]
  },
  {
   "cell_type": "code",
   "execution_count": 23,
   "metadata": {},
   "outputs": [],
   "source": [
    "na_mask = df.isna().any(axis=1)\n",
    "df_na = df.loc[na_mask,:].copy()\n",
    "na_mask = df.isna().all(axis=1)\n",
    "df_na = df_na.loc[~na_mask,:]\n",
    "na_mask = df.isna().any(axis=1)\n",
    "df_clean = df.loc[~na_mask,:].copy()"
   ]
  },
  {
   "cell_type": "code",
   "execution_count": 24,
   "metadata": {},
   "outputs": [
    {
     "name": "stderr",
     "output_type": "stream",
     "text": [
      "Running EM algo: 100%|██████████| 50/50 [00:00<00:00, 71.31it/s]\n"
     ]
    },
    {
     "name": "stdout",
     "output_type": "stream",
     "text": [
      "Loss: 280.0360107421875\n",
      "G: 2, BIC: 609.0231323242188\n"
     ]
    },
    {
     "name": "stderr",
     "output_type": "stream",
     "text": [
      "Running EM algo: 100%|██████████| 50/50 [00:01<00:00, 46.84it/s]\n"
     ]
    },
    {
     "name": "stdout",
     "output_type": "stream",
     "text": [
      "Loss: 276.073486328125\n",
      "G: 3, BIC: 625.5736083984375\n"
     ]
    },
    {
     "name": "stderr",
     "output_type": "stream",
     "text": [
      "Running EM algo: 100%|██████████| 50/50 [00:01<00:00, 36.17it/s]\n"
     ]
    },
    {
     "name": "stdout",
     "output_type": "stream",
     "text": [
      "Loss: 269.29302978515625\n",
      "G: 4, BIC: 636.48828125\n"
     ]
    },
    {
     "name": "stderr",
     "output_type": "stream",
     "text": [
      "Running EM algo: 100%|██████████| 50/50 [00:01<00:00, 28.55it/s]\n"
     ]
    },
    {
     "name": "stdout",
     "output_type": "stream",
     "text": [
      "Loss: 255.72012329101562\n",
      "G: 5, BIC: 633.8179931640625\n",
      "Best G: 2, Best BIC: 609.0231323242188\n"
     ]
    }
   ],
   "source": [
    "# Mixture model\n",
    "X = df_clean.copy().to_numpy()\n",
    "X = torch.Tensor(X)\n",
    "Gs = range(2, 6)\n",
    "best_bic = float(\"inf\")\n",
    "best_G = None\n",
    "best_model = None\n",
    "for G in Gs:\n",
    "    mm = GaussianMixtureModel(G=G, data=X)\n",
    "    # fit \n",
    "    mm.train_EM(max_iter=50)\n",
    "    bic = -mm.BIC()\n",
    "    print(f\"G: {G}, BIC: {bic}\")\n",
    "    if bic < best_bic:\n",
    "        best_bic = bic\n",
    "        best_G = G\n",
    "        best_model = mm\n",
    "print(f\"Best G: {best_G}, Best BIC: {best_bic}\")"
   ]
  },
  {
   "cell_type": "code",
   "execution_count": 25,
   "metadata": {},
   "outputs": [],
   "source": [
    "mus = best_model.mus.detach().numpy()\n",
    "sigmas = best_model.sigmas.detach().numpy()\n",
    "w = best_model.w.numpy().squeeze()"
   ]
  },
  {
   "cell_type": "code",
   "execution_count": 26,
   "metadata": {},
   "outputs": [],
   "source": [
    "x_array_na = best_model.transform(torch.Tensor(df_na.to_numpy())).detach().numpy()\n",
    "x_imputed_array = conditional_mean_imputation(x_array_na, w, mus, sigmas)\n",
    "x_imputed_array_inv_transform = best_model.inverse_transform(torch.Tensor(x_imputed_array)).detach().numpy()"
   ]
  },
  {
   "cell_type": "code",
   "execution_count": 27,
   "metadata": {},
   "outputs": [],
   "source": [
    "df_imputed = pd.DataFrame(x_imputed_array_inv_transform)\n",
    "df_imputed.columns = df_transform_na.columns"
   ]
  },
  {
   "cell_type": "markdown",
   "metadata": {},
   "source": [
    "### Imputation after joint training using EM, brown points are imputed"
   ]
  },
  {
   "cell_type": "code",
   "execution_count": 28,
   "metadata": {},
   "outputs": [
    {
     "data": {
      "image/png": "[encoded data removed]",
      "text/plain": [
       "<Figure size 1000x300 with 1 Axes>"
      ]
     },
     "metadata": {},
     "output_type": "display_data"
    }
   ],
   "source": [
    "ax1 = plot_li_vs_others(df_clean)\n",
    "plot_imputed_values(df_imputed, ax1, colors=\"brown\")\n",
    "plt.show()"
   ]
  },
  {
   "cell_type": "markdown",
   "metadata": {},
   "source": [
    "### Comments\n",
    "\n",
    "- We can clearly see the brown and red imputations (after transformation to normality) are much better than the blue imputation (without transformation)\n",
    "\n",
    "- This is because in the blue imputation the assumption of normality for Gaussian Mixture model was not satisfied\n",
    "\n",
    "- In the blue imputation, there are much more outliers and the imputed points don't seem to be as linear as brown and red plots\n",
    "\n",
    "- From the imputation we can see that there is a linear trend between R1 and V1 which is expected, since increasing R1 score means better literacy which means better verbal skills, so higher V1"
   ]
  }
 ],
 "metadata": {
  "kernelspec": {
   "display_name": "Python 3.8.10 ('pytorch_latest')",
   "language": "python",
   "name": "python3"
  },
  "language_info": {
   "codemirror_mode": {
    "name": "ipython",
    "version": 3
   },
   "file_extension": ".py",
   "mimetype": "text/x-python",
   "name": "python",
   "nbconvert_exporter": "python",
   "pygments_lexer": "ipython3",
   "version": "3.8.10"
  },
  "orig_nbformat": 4,
  "vscode": {
   "interpreter": {
    "hash": "e7821bec6c18259029c0375e4cff308d64d2ecea3252ed5270b27bae44be7fee"
   }
  }
 },
 "nbformat": 4,
 "nbformat_minor": 2
}
