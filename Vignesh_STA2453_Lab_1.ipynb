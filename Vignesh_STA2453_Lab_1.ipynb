{
  "nbformat": 4,
  "nbformat_minor": 0,
  "metadata": {
    "colab": {
      "provenance": [],
      "collapsed_sections": [
        "OggTB2f0_2tj"
      ]
    },
    "kernelspec": {
      "name": "python3",
      "display_name": "Python 3"
    },
    "language_info": {
      "name": "python"
    }
  },
  "cells": [
    {
      "cell_type": "code",
      "execution_count": 251,
      "metadata": {
        "id": "zL_aYQRr_zZH"
      },
      "outputs": [],
      "source": [
        "# Let's code it up, preamble first. \n",
        "\n",
        "import numpy as np # basic vector/matrix math\n",
        "import matplotlib.pyplot as plt # plotting and illustrations \n",
        "import seaborn as sns # advanced plotting and illustrations. \n",
        "import pandas as pd # data loading, saving, and general data manipulation. \n",
        "import scipy.stats as stats # inter alia, statistical distributions, functions and relevant objects.\n",
        "import scipy.optimize as optimize \n",
        "import torch # ML/AI model's and general optimization "
      ]
    },
    {
      "cell_type": "markdown",
      "source": [
        "# STA 2453 Lab 1 Submission\n",
        "\n",
        "This lab notebook must be completed in the appropriate time during class and invigilated by the instructor. There are _ questions, you must add both this notebook, and another generated .py file to the PR. \n",
        "\n",
        "Once the PR is in place, please tag both me and the TA in it. So in the end you will have two files. \n",
        "\n",
        "- `STA2453-Lab-1.ipynb`\n",
        "- `STA2453-Lab-1.py`\n",
        "\n",
        "Both of these are needed for a good submission. \n",
        "\n"
      ],
      "metadata": {
        "id": "OggTB2f0_2tj"
      }
    },
    {
      "cell_type": "markdown",
      "source": [
        "# Case Study: Does God Hate Rich People? \n",
        "\n",
        "\n",
        "## Introduction \n",
        "\n",
        "Extreme weather events in the U.S. are regularly tracked by the National Oceanic and Atomspheric Administration (NOAA).\n",
        "\n",
        "The NCDC Storm Events database is provided by the National Weather Service (NWS) and contain statistics on personal injuries and damage estimates. (ref. gov.noaa.ncdc:C00510). \n",
        "\n",
        "## The question is, are high-income or low-income households more susceptible to extreme weather events? \n",
        "\n",
        "The US Household Income dataset provided by Golden Oak Research Group contains 32,000 records on US Household Income Statistics & Geo Locations. The dataset originally developed for real estate and business investment research. Income is a vital element when determining both quality and socioeconomic features of a given geographic location. (ref. Golden Oak Research Group, LLC. “U.S. Income Database Kaggle”. Publication: 5, August 2017.)\n",
        "\n",
        "\n",
        "The two files listed here: \n",
        "\n",
        "## Storm Weather Event Data\n",
        "`https://raw.githubusercontent.com/nikpocuca/sta2453-2022.github.io/master/StormEvents_locations-ftp_v1.0_d2014_c20180718.csv`\n",
        "\n",
        "\n",
        "## Golden Oak Research Group Data\n",
        "`https://raw.githubusercontent.com/nikpocuca/sta2453-2022.github.io/master/kaggle_income_clean.csv`"
      ],
      "metadata": {
        "id": "4nupNlXXYw4X"
      }
    },
    {
      "cell_type": "code",
      "source": [
        "# Load data\n",
        "storm_data = pd.read_csv(\"https://raw.githubusercontent.com/nikpocuca/sta2453-2022.github.io/master/StormEvents_locations-ftp_v1.0_d2014_c20180718.csv\")\n",
        "golden_data = pd.read_csv(\"https://raw.githubusercontent.com/nikpocuca/sta2453-2022.github.io/master/kaggle_income_clean.csv\")"
      ],
      "metadata": {
        "id": "TLBgzrAKZe_j"
      },
      "execution_count": 252,
      "outputs": []
    },
    {
      "cell_type": "markdown",
      "source": [
        "\n",
        "## Cleaning Data \n",
        "\n",
        "We want to take only the continental US data, so that involves the following: \n",
        "\n",
        "- `20 < Lat < 50`\n",
        "- `Lon > -140`\n",
        "\n",
        "\n",
        "Furthermore we want to create two dataframes, one for poor people, one for rich people. According to the US Census Bureau, a person who's average income is below \\$25k is considered below the poverty line, while a person exceeding \\$100k is considered wealthy. \n",
        "\n",
        "Create two dataframes called `rich_df` and `poor_df` for analysis after cleaning out for strictly continental US. \n"
      ],
      "metadata": {
        "id": "ADELB3jTcSmo"
      }
    },
    {
      "cell_type": "code",
      "source": [
        "# clean df. \n",
        "clean_storm_df = storm_data[(storm_data.LATITUDE > 20.0) & (storm_data.LATITUDE < 50.0) & (storm_data.LONGITUDE > -140.0)]"
      ],
      "metadata": {
        "id": "hrhVA1JRbrGj"
      },
      "execution_count": 253,
      "outputs": []
    },
    {
      "cell_type": "code",
      "source": [
        "clean_golden_data = golden_data[(golden_data.Lat > 20.0) & (golden_data.Lat < 50.0) & (golden_data.Lon > -140.0)]"
      ],
      "metadata": {
        "id": "pISAgm_IRSJw"
      },
      "execution_count": 254,
      "outputs": []
    },
    {
      "cell_type": "code",
      "source": [
        "# rich/poor segmentation\n",
        "poor_df = clean_golden_data[clean_golden_data.Mean < 25000]\n",
        "rich_df = clean_golden_data[clean_golden_data.Mean > 100000]"
      ],
      "metadata": {
        "id": "zoNnlD_5eL6F"
      },
      "execution_count": 255,
      "outputs": []
    },
    {
      "cell_type": "markdown",
      "source": [
        "## Calculate Nearest Distance between Points\n",
        "\n",
        "For each household we need to calculate the nearest severe weather event. We should write a function to do this. Let $x$,$y$ denote longitude and latitude respectively. then for some Houshold $H$, we should calculate the distance to all the severe weather events $E$ longitude and latitude. \n",
        "\n",
        "\n",
        "$$ d_{H,E} = 110.574 \\times \\sqrt{(x_H - x_E)^2 + (y_H - y_E)^2} $$\n",
        "\n",
        "Basically we are getting a eucledian distance to each severe weather event, and then multiplying by a constant to convert to km's for sanity. Then we want to find the distance to the nearest event so we take the minimum... \n",
        "\n",
        "$$ d_{min} = \\text{argmin}\\{d_{H,E_1}, d_{H,E_2}, \\dots, d_{H,E_n} \\} $$ \n",
        "\n",
        "\n",
        "Do this for every household, and plot the results in a histogram for both rich/poor households.  "
      ],
      "metadata": {
        "id": "9KxOWp6giJBe"
      }
    },
    {
      "cell_type": "code",
      "source": [
        "# calculate the nearest points.\n",
        "def calc_min_distance(golden_item):\n",
        "  return np.min(110.574 * np.sqrt((clean_storm_df.LONGITUDE - golden_item.Lon) ** 2 + (clean_storm_df.LATITUDE - golden_item.Lat) ** 2))"
      ],
      "metadata": {
        "id": "1gvObtIoh1y2"
      },
      "execution_count": 256,
      "outputs": []
    },
    {
      "cell_type": "code",
      "source": [
        "rich_df[\"min_storm_distance\"] = rich_df.apply(calc_min_distance, axis=1).to_numpy()"
      ],
      "metadata": {
        "colab": {
          "base_uri": "https://localhost:8080/"
        },
        "id": "x1ZVVgp1UJAH",
        "outputId": "d2e087e2-09dd-4925-87a4-90e8dace8f91"
      },
      "execution_count": 257,
      "outputs": [
        {
          "output_type": "stream",
          "name": "stderr",
          "text": [
            "/usr/local/lib/python3.7/dist-packages/ipykernel_launcher.py:1: SettingWithCopyWarning: \n",
            "A value is trying to be set on a copy of a slice from a DataFrame.\n",
            "Try using .loc[row_indexer,col_indexer] = value instead\n",
            "\n",
            "See the caveats in the documentation: https://pandas.pydata.org/pandas-docs/stable/user_guide/indexing.html#returning-a-view-versus-a-copy\n",
            "  \"\"\"Entry point for launching an IPython kernel.\n"
          ]
        }
      ]
    },
    {
      "cell_type": "code",
      "source": [
        "poor_df[\"min_storm_distance\"] = poor_df.apply(calc_min_distance, axis=1).to_numpy()"
      ],
      "metadata": {
        "colab": {
          "base_uri": "https://localhost:8080/"
        },
        "id": "FF6T4guAWCFk",
        "outputId": "c35ecc00-1b3d-447c-b244-ee3ac7ecbcc2"
      },
      "execution_count": 258,
      "outputs": [
        {
          "output_type": "stream",
          "name": "stderr",
          "text": [
            "/usr/local/lib/python3.7/dist-packages/ipykernel_launcher.py:1: SettingWithCopyWarning: \n",
            "A value is trying to be set on a copy of a slice from a DataFrame.\n",
            "Try using .loc[row_indexer,col_indexer] = value instead\n",
            "\n",
            "See the caveats in the documentation: https://pandas.pydata.org/pandas-docs/stable/user_guide/indexing.html#returning-a-view-versus-a-copy\n",
            "  \"\"\"Entry point for launching an IPython kernel.\n"
          ]
        }
      ]
    },
    {
      "cell_type": "code",
      "source": [
        "X_rich = rich_df.min_storm_distance.to_numpy()\n",
        "X_poor = poor_df.min_storm_distance.to_numpy()"
      ],
      "metadata": {
        "id": "JBF9bbR_ZxoD"
      },
      "execution_count": 259,
      "outputs": []
    },
    {
      "cell_type": "code",
      "source": [
        "# plot rich people histogram, make bins at least 50, comment on the plot.\n",
        "plt.hist(X_rich, bins=50)"
      ],
      "metadata": {
        "id": "qyUJS1khmDj7",
        "colab": {
          "base_uri": "https://localhost:8080/",
          "height": 664
        },
        "outputId": "7c9f4f80-15f7-4ad0-87b3-706c69153bac"
      },
      "execution_count": 260,
      "outputs": [
        {
          "output_type": "execute_result",
          "data": {
            "text/plain": [
              "(array([1.191e+03, 1.288e+03, 7.780e+02, 4.420e+02, 2.330e+02, 1.210e+02,\n",
              "        9.000e+01, 6.400e+01, 4.400e+01, 3.300e+01, 1.800e+01, 1.700e+01,\n",
              "        1.500e+01, 7.000e+00, 6.000e+00, 4.000e+00, 3.000e+00, 0.000e+00,\n",
              "        2.000e+00, 0.000e+00, 0.000e+00, 0.000e+00, 1.000e+00, 0.000e+00,\n",
              "        0.000e+00, 0.000e+00, 1.000e+00, 1.000e+00, 0.000e+00, 0.000e+00,\n",
              "        0.000e+00, 0.000e+00, 0.000e+00, 0.000e+00, 0.000e+00, 0.000e+00,\n",
              "        0.000e+00, 0.000e+00, 0.000e+00, 1.000e+00, 0.000e+00, 0.000e+00,\n",
              "        0.000e+00, 0.000e+00, 0.000e+00, 0.000e+00, 0.000e+00, 0.000e+00,\n",
              "        1.000e+00, 1.000e+00]),\n",
              " array([3.19205095e-02, 2.24855941e+00, 4.46519831e+00, 6.68183721e+00,\n",
              "        8.89847610e+00, 1.11151150e+01, 1.33317539e+01, 1.55483928e+01,\n",
              "        1.77650317e+01, 1.99816706e+01, 2.21983095e+01, 2.44149484e+01,\n",
              "        2.66315873e+01, 2.88482262e+01, 3.10648651e+01, 3.32815040e+01,\n",
              "        3.54981429e+01, 3.77147818e+01, 3.99314207e+01, 4.21480596e+01,\n",
              "        4.43646985e+01, 4.65813374e+01, 4.87979763e+01, 5.10146152e+01,\n",
              "        5.32312541e+01, 5.54478930e+01, 5.76645319e+01, 5.98811708e+01,\n",
              "        6.20978097e+01, 6.43144486e+01, 6.65310875e+01, 6.87477264e+01,\n",
              "        7.09643653e+01, 7.31810042e+01, 7.53976431e+01, 7.76142820e+01,\n",
              "        7.98309209e+01, 8.20475598e+01, 8.42641987e+01, 8.64808376e+01,\n",
              "        8.86974765e+01, 9.09141154e+01, 9.31307543e+01, 9.53473932e+01,\n",
              "        9.75640321e+01, 9.97806710e+01, 1.01997310e+02, 1.04213949e+02,\n",
              "        1.06430588e+02, 1.08647227e+02, 1.10863865e+02]),\n",
              " <a list of 50 Patch objects>)"
            ]
          },
          "metadata": {},
          "execution_count": 260
        },
        {
          "output_type": "display_data",
          "data": {
            "text/plain": [
              "<Figure size 432x288 with 1 Axes>"
            ],
            "image/png": "[encoded data removed]"
          },
          "metadata": {
            "needs_background": "light"
          }
        }
      ]
    },
    {
      "cell_type": "code",
      "source": [
        "# plot poor people histogram, make bins at least 50, comment on the plot\n",
        "plt.hist(X_poor, bins=50)"
      ],
      "metadata": {
        "id": "eIDCYGQOmFB3",
        "colab": {
          "base_uri": "https://localhost:8080/",
          "height": 595
        },
        "outputId": "f9e0015f-92ee-408b-b9f8-16783cc20048"
      },
      "execution_count": 261,
      "outputs": [
        {
          "output_type": "execute_result",
          "data": {
            "text/plain": [
              "(array([408., 231., 111.,  45.,  32.,  28.,  18.,  11.,   6.,   5.,   4.,\n",
              "          6.,   4.,   3.,   1.,   5.,   2.,   2.,   3.,   2.,   1.,   1.,\n",
              "          1.,   0.,   2.,   2.,   1.,   0.,   0.,   0.,   0.,   0.,   0.,\n",
              "          0.,   0.,   0.,   0.,   0.,   2.,   1.,   0.,   0.,   0.,   0.,\n",
              "          0.,   0.,   0.,   0.,   0.,   1.]),\n",
              " array([6.52357597e-02, 2.87216207e+00, 5.67908837e+00, 8.48601468e+00,\n",
              "        1.12929410e+01, 1.40998673e+01, 1.69067936e+01, 1.97137199e+01,\n",
              "        2.25206462e+01, 2.53275725e+01, 2.81344988e+01, 3.09414251e+01,\n",
              "        3.37483514e+01, 3.65552777e+01, 3.93622041e+01, 4.21691304e+01,\n",
              "        4.49760567e+01, 4.77829830e+01, 5.05899093e+01, 5.33968356e+01,\n",
              "        5.62037619e+01, 5.90106882e+01, 6.18176145e+01, 6.46245408e+01,\n",
              "        6.74314671e+01, 7.02383934e+01, 7.30453197e+01, 7.58522460e+01,\n",
              "        7.86591724e+01, 8.14660987e+01, 8.42730250e+01, 8.70799513e+01,\n",
              "        8.98868776e+01, 9.26938039e+01, 9.55007302e+01, 9.83076565e+01,\n",
              "        1.01114583e+02, 1.03921509e+02, 1.06728435e+02, 1.09535362e+02,\n",
              "        1.12342288e+02, 1.15149214e+02, 1.17956141e+02, 1.20763067e+02,\n",
              "        1.23569993e+02, 1.26376920e+02, 1.29183846e+02, 1.31990772e+02,\n",
              "        1.34797698e+02, 1.37604625e+02, 1.40411551e+02]),\n",
              " <a list of 50 Patch objects>)"
            ]
          },
          "metadata": {},
          "execution_count": 261
        },
        {
          "output_type": "display_data",
          "data": {
            "text/plain": [
              "<Figure size 432x288 with 1 Axes>"
            ],
            "image/png": "[encoded data removed]"
          },
          "metadata": {
            "needs_background": "light"
          }
        }
      ]
    },
    {
      "cell_type": "markdown",
      "source": [
        "# Distributional Characteristic Statistics\n",
        "\n",
        "In the following cells please perform some statistical analysis and determine whether rich people are more likely to be struck by extreme weather events, or, poor people are more likely. The methods/statistics presented in week one in class are extremely useful.  \n",
        "\n",
        "You should also find the difference of mean pooled t-test useful in this case but you must justify your assumptions for using it. You can use any python libraries or functions as well as go on stack overflow. You should also use the functions written up in the previous class [here](https://colab.research.google.com/drive/1L1Kx8qoHCY3yjuYg2tE4W61xu79xG7lJ?usp=sharing).\n",
        "\n",
        "$$ t = \\frac{ \\bar{X}_R - \\bar{X}_P}{ s_T \\sqrt{\\frac{1}{n_R} + \\frac{1}{n_P}}  } $$\n",
        "\n",
        "where, \n",
        "$$ s_T = \\sqrt{ \\frac{(n_R - 1)s_R + (n_P -1)s_P}{n_R + n_P - 2}  }  $$\n",
        "\n",
        "Hint: Use the following function `stats.ttest_ind` and adjust the appropriate setting such that you test wether $\\bar{X}_R > \\bar{X}_P$, or vice versa.\n",
        "\n",
        "Hint-2: Use the functions from the previous week's notebook. \n",
        "\n",
        "Caveat: Keep resampling techniques under 500 scenarios (in class we used 1000).\n",
        "\n",
        "\n",
        "### Please write your conclusion at the end wether Rich or Poor people are more likely to get hit by a severe weather storm. "
      ],
      "metadata": {
        "id": "8hG1om4G2R-j"
      }
    },
    {
      "cell_type": "markdown",
      "source": [
        "From the histogram we can see that both X_rich and X_poor have similar distribution.\n",
        "\n",
        "If we assume mean(x_rich) = mean(X_poor), then we can use the permutation re-sampling method to compute the T statistic\n",
        "\n"
      ],
      "metadata": {
        "id": "rDWVn95CZJfS"
      }
    },
    {
      "cell_type": "code",
      "source": [
        "# Null hypothesis = mean(X_rich) = mean(X_poor)\n",
        "# Alternate hypothesis = mean(X_rich) > mean(X_poor)\n",
        "stats.ttest_ind(X_rich, X_poor, permutations=500, alternative=\"greater\")"
      ],
      "metadata": {
        "colab": {
          "base_uri": "https://localhost:8080/"
        },
        "id": "1JPRM0ALf2J4",
        "outputId": "8b068c53-da0c-4074-8348-478dba963d85"
      },
      "execution_count": 262,
      "outputs": [
        {
          "output_type": "execute_result",
          "data": {
            "text/plain": [
              "Ttest_indResult(statistic=-6.8142830978609865, pvalue=1.0)"
            ]
          },
          "metadata": {},
          "execution_count": 262
        }
      ]
    },
    {
      "cell_type": "markdown",
      "source": [
        "Accept null *hypothesis*"
      ],
      "metadata": {
        "id": "UjMbDy3Xhh2E"
      }
    },
    {
      "cell_type": "code",
      "source": [
        "# Null hypothesis = mean(X_rich) = mean(X_poor)\n",
        "# Alternate hypothesis = mean(X_rich) < mean(X_poor)\n",
        "stats.ttest_ind(X_rich, X_poor, permutations=500, alternative=\"less\")"
      ],
      "metadata": {
        "colab": {
          "base_uri": "https://localhost:8080/"
        },
        "id": "mApQPv69dxyy",
        "outputId": "9a290540-d28c-4142-b9f1-ba40405c5b0b"
      },
      "execution_count": 263,
      "outputs": [
        {
          "output_type": "execute_result",
          "data": {
            "text/plain": [
              "Ttest_indResult(statistic=-6.8142830978609865, pvalue=0.0)"
            ]
          },
          "metadata": {},
          "execution_count": 263
        }
      ]
    },
    {
      "cell_type": "markdown",
      "source": [
        "Reject null hypothesis and accept alternate hypothesis mean(X_rich) < mean(X_poor)"
      ],
      "metadata": {
        "id": "DyFKqQYChkY4"
      }
    },
    {
      "cell_type": "markdown",
      "source": [
        "### Conclusion: Since rich people are nearer to storms, they are more likely to get hit"
      ],
      "metadata": {
        "id": "C5pGYViPheej"
      }
    }
  ]
}