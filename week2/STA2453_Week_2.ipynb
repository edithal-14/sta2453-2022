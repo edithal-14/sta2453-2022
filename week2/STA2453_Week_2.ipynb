{
  "nbformat": 4,
  "nbformat_minor": 0,
  "metadata": {
    "colab": {
      "provenance": [],
      "collapsed_sections": []
    },
    "kernelspec": {
      "name": "python3",
      "display_name": "Python 3"
    },
    "language_info": {
      "name": "python"
    }
  },
  "cells": [
    {
      "cell_type": "markdown",
      "source": [
        "# Week 2 Linear Regression \n",
        "\n",
        "This notebook contains material relevant to performing multiple linear regression. \n",
        "\n",
        "Let us begin with the model definition. \n",
        "\n",
        "## Linear Regression Model\n",
        "\n",
        "A linear regression model is:\n",
        "\n",
        "$$y_i = \\beta_0 + \\beta_1 x_i + \\epsilon_i, \\quad \\mbox{} i=1, \\ldots, n$$\n",
        "\n",
        "- $Y_i$ is the repsonse variate,\n",
        "- $x_i$ is the predictor/covariate, \n",
        "- $n$ is the number of observations, and $\\epsilon \\sim N\\left(0,\\sigma^2\\right)$\n",
        "\n"
      ],
      "metadata": {
        "id": "A8RWHhUIapuX"
      }
    },
    {
      "cell_type": "code",
      "execution_count": null,
      "metadata": {
        "id": "nw3pcvJ6aVPq"
      },
      "outputs": [],
      "source": [
        "# Let's code it up, preamble first. \n",
        "\n",
        "import numpy as np # basic vector/matrix math\n",
        "import matplotlib.pyplot as plt # plotting and illustrations \n",
        "import seaborn as sns # advanced plotting and illustrations. \n",
        "import pandas as pd # data loading, saving, and general data manipulation. \n",
        "import scipy.stats as stats # inter alia, statistical distributions, functions and relevant objects.\n",
        "import scipy.optimize as optimize \n",
        "import torch # ML/AI model's and general optimization "
      ]
    },
    {
      "cell_type": "code",
      "source": [
        "def generate_lm_data(betas: np.array, n: int = 100, sigma: float = 1.0):\n",
        "  \"\"\"\n",
        "    Generates a standard linear model with noise equal to sigma, and slope/intercept \n",
        "    respectively.\n",
        "\n",
        "    Returns a tuple np.array, x,y \n",
        "  \"\"\"\n",
        "\n",
        "  \n",
        "  eps = np.random.normal(0, sigma, size=n) # start with white noise. \n",
        "\n",
        "  # lets let the covariate be normally distributed as well.\n",
        "  mu_x = 1.5\n",
        "  sigma_x = 2.0 \n",
        "  x = np.random.normal(mu_x, sigma_x, size=n)\n",
        "\n",
        "  y = betas[0] + betas[1] * x + eps\n",
        "  return (x, y)"
      ],
      "metadata": {
        "id": "0TWnt5vqcJug"
      },
      "execution_count": null,
      "outputs": []
    },
    {
      "cell_type": "code",
      "source": [
        "# let us plot the linear model and see what it looks like\n",
        "x,y = generate_lm_data(betas = np.array([0.5, 2.0]), \n",
        "                       n = 1000,\n",
        "                       sigma = 1.0)\n",
        "plt.scatter(x,y, s=5, color = 'red')\n",
        "plt.title(\"Example linear model\");"
      ],
      "metadata": {
        "colab": {
          "base_uri": "https://localhost:8080/",
          "height": 281
        },
        "id": "6yj-OCdAdvKa",
        "outputId": "8a2671d0-83c5-41c1-d238-701feced79e5"
      },
      "execution_count": null,
      "outputs": [
        {
          "output_type": "display_data",
          "data": {
            "text/plain": [
              "<Figure size 432x288 with 1 Axes>"
            ],
            "image/png": "[encoded data removed]"
          },
          "metadata": {
            "needs_background": "light"
          }
        }
      ]
    },
    {
      "cell_type": "code",
      "source": [
        "# let's experiment with the variation of noise level. \n",
        "\n",
        "# let us plot the linear model and see what it looks like\n",
        "x,y = generate_lm_data(betas = np.array([0.5, 2.0]), \n",
        "                       n = 100,\n",
        "                       sigma = 5.0)\n",
        "plt.scatter(x,y, s=5, color = 'red')\n",
        "plt.title(f\"Example linear model Sigma={5}\");"
      ],
      "metadata": {
        "colab": {
          "base_uri": "https://localhost:8080/",
          "height": 281
        },
        "id": "eD5UYvbfdy_w",
        "outputId": "f62f8bec-ab96-46d1-a133-a51be15df075"
      },
      "execution_count": null,
      "outputs": [
        {
          "output_type": "display_data",
          "data": {
            "text/plain": [
              "<Figure size 432x288 with 1 Axes>"
            ],
            "image/png": "[encoded data removed]"
          },
          "metadata": {
            "needs_background": "light"
          }
        }
      ]
    },
    {
      "cell_type": "code",
      "source": [
        "# let's experiment with the variation of noise level. \n",
        "\n",
        "# let us plot the linear model and see what it looks like\n",
        "x,y = generate_lm_data(betas = np.array([0.5, 2.0]), \n",
        "                       n = 1000,\n",
        "                       sigma = 10.0)\n",
        "plt.scatter(x,y, s=5, color = 'red')\n",
        "plt.title(f\"Example linear model Sigma={10.0}\");"
      ],
      "metadata": {
        "colab": {
          "base_uri": "https://localhost:8080/",
          "height": 281
        },
        "id": "zKQwr291ekDj",
        "outputId": "aa1afd06-893c-4b40-a997-f4943aa44e4e"
      },
      "execution_count": null,
      "outputs": [
        {
          "output_type": "display_data",
          "data": {
            "text/plain": [
              "<Figure size 432x288 with 1 Axes>"
            ],
            "image/png": "[encoded data removed]"
          },
          "metadata": {
            "needs_background": "light"
          }
        }
      ]
    },
    {
      "cell_type": "code",
      "source": [
        "from google.colab import drive\n",
        "drive.mount('/content/drive')"
      ],
      "metadata": {
        "id": "FoGPFUu2kfT1"
      },
      "execution_count": null,
      "outputs": []
    },
    {
      "cell_type": "code",
      "source": [
        "# let's experiment with the variation of noise level. \n",
        "\n",
        "# let us plot the linear model and see what it looks like\n",
        "x,y = generate_lm_data(betas = np.array([0.5, 2.0]), \n",
        "                       n = 1000,\n",
        "                       sigma = 0.25)\n",
        "plt.scatter(x,y, s=5, color = 'red')\n",
        "plt.title(f\"Example linear model Sigma={0.25}\");"
      ],
      "metadata": {
        "colab": {
          "base_uri": "https://localhost:8080/",
          "height": 281
        },
        "id": "Bw7K4AnkeqDg",
        "outputId": "16fd4d29-3d73-41b8-8507-e12108a603c6"
      },
      "execution_count": null,
      "outputs": [
        {
          "output_type": "display_data",
          "data": {
            "text/plain": [
              "<Figure size 432x288 with 1 Axes>"
            ],
            "image/png": "[encoded data removed]"
          },
          "metadata": {
            "needs_background": "light"
          }
        }
      ]
    },
    {
      "cell_type": "markdown",
      "source": [
        "# Linear Regression Statistical Assumptions\n",
        "\n",
        "1. For any value of $x$, $y$ is a $N\\left(\\beta_0 + \\beta_1 x, \\sigma^2 \\right)$ random variable.\n",
        "\n",
        "2. Independence: $y_1, \\ldots, y_n$ are statistically independent.\n",
        "\n",
        "3. Linearity: The mean value of $y$ is a linear function of $x$.\n",
        "\n",
        "4. Homoscedasticity: The variance of $y$ is the same for any $x$.\n"
      ],
      "metadata": {
        "id": "FYl_T-ZpfEoe"
      }
    },
    {
      "cell_type": "code",
      "source": [
        "# lets see what happens when we break number 4. "
      ],
      "metadata": {
        "id": "GFr-7ZOrfGxh"
      },
      "execution_count": null,
      "outputs": []
    },
    {
      "cell_type": "code",
      "source": [
        "def generate_lm_heteroscedastic_data(betas: np.array, n: int = 100, lmbda: float = 1.0):\n",
        "  \"\"\"\n",
        "    Generates a non-linear noise linear model with noise distributed exponential rate lmbda, and slope/intercept \n",
        "    respectively.\n",
        "\n",
        "    Returns a tuple np.array, x,y \n",
        "  \"\"\"\n",
        "\n",
        "  sigma = np.random.exponential(lmbda, size=n)\n",
        "  \n",
        "  eps = np.random.normal(0, sigma, size=n) # start with white noise. \n",
        "\n",
        "  # lets let the covariate be normally distributed as well.\n",
        "  mu_x = 1.5\n",
        "  sigma_x = 2.0 \n",
        "  x = np.random.normal(mu_x, sigma_x, size=n)\n",
        "\n",
        "  y = betas[0] + betas[1] * x + eps\n",
        "  return (x, y)"
      ],
      "metadata": {
        "id": "dIFRq4MnfqBZ"
      },
      "execution_count": null,
      "outputs": []
    },
    {
      "cell_type": "code",
      "source": [
        "# let us plot the linear model and see what it looks like\n",
        "x,y = generate_lm_heteroscedastic_data(betas = np.array([0.5, 2.0]), \n",
        "                       n = 1000,\n",
        "                       lmbda = 4.0)\n",
        "plt.scatter(x,y, s=5, color = 'red')\n",
        "plt.title(\"Example contaminated linear model\");\n",
        "\n",
        "# noise levels look heterogeneous"
      ],
      "metadata": {
        "colab": {
          "base_uri": "https://localhost:8080/",
          "height": 281
        },
        "id": "lL1hrHi2f2x5",
        "outputId": "f027194d-886c-497a-ed63-2e5c63b3cde4"
      },
      "execution_count": null,
      "outputs": [
        {
          "output_type": "display_data",
          "data": {
            "text/plain": [
              "<Figure size 432x288 with 1 Axes>"
            ],
            "image/png": "[encoded data removed]"
          },
          "metadata": {
            "needs_background": "light"
          }
        }
      ]
    },
    {
      "cell_type": "code",
      "source": [
        "# lets try a different variation, \n",
        "\n",
        "def generate_lm_heteroscedastic_data(betas: np.array, n: int = 100):\n",
        "  \"\"\"\n",
        "    Generates a non-linear noise linear model with noise distributed exponential rate correlated to x, and slope/intercept \n",
        "    respectively.\n",
        "\n",
        "    Returns a tuple np.array, x,y \n",
        "  \"\"\"\n",
        " # lets let the covariate be normally distributed as well.\n",
        "  mu_x = 1.5\n",
        "  sigma_x = 2.0 \n",
        "  x = np.random.normal(mu_x, sigma_x, size=n)\n",
        "\n",
        "  sigma = np.random.exponential(np.abs(x), size=n)\n",
        "  \n",
        "  eps = np.random.normal(0, sigma, size=n) # start with white noise. \n",
        "\n",
        " \n",
        "\n",
        "  y = betas[0] + betas[1] * x + eps\n",
        "  return (x, y)"
      ],
      "metadata": {
        "id": "J7qUo9Cmf4qJ"
      },
      "execution_count": null,
      "outputs": []
    },
    {
      "cell_type": "code",
      "source": [
        "# let us plot the linear model and see what it looks like\n",
        "x,y = generate_lm_heteroscedastic_data(betas = np.array([0.5, 2.0]), \n",
        "                       n = 1000)\n",
        "plt.scatter(x,y, s=5, color = 'red')\n",
        "plt.title(\"Example contaminated linear model\");\n",
        "\n",
        "# noise levels look heterogeneous"
      ],
      "metadata": {
        "colab": {
          "base_uri": "https://localhost:8080/",
          "height": 281
        },
        "id": "SBQJR1-pglT6",
        "outputId": "bb2c04f2-3a9e-4eea-b84e-8a8812bbfed2"
      },
      "execution_count": null,
      "outputs": [
        {
          "output_type": "display_data",
          "data": {
            "text/plain": [
              "<Figure size 432x288 with 1 Axes>"
            ],
            "image/png": "[encoded data removed]"
          },
          "metadata": {
            "needs_background": "light"
          }
        }
      ]
    },
    {
      "cell_type": "markdown",
      "source": [
        "# Estimating Regression Coefficients\n",
        "\n",
        "Estimates of the regression coefficients $\\beta_0, \\beta_1$ are obtained by minimizing:\n",
        "\n",
        "$$\\underset{\\beta_0, \\beta_1}{\\arg \\min} \\sum_{i=1}^n \\left(y_i- (\\beta_0 + \\beta_1 x_i) \\right)^2.$$\n",
        "\n",
        "Using calculus there are closed form expressions for the minimizers: $\\hat \\beta_0, \\hat \\beta_1.$\n",
        "\n",
        "The prediction for $y$ based on the $i^{th}$ value of $x$ is: $$\\hat y_i = \\hat \\beta_0 + \\hat \\beta_1x_i.$$\n",
        "\n",
        "$e_i = y_i-\\hat y_i$ is the $i^{th}$ residual, and the residual sum of squares is $$RSS=\\sum_{i=1}^n e_i^2.$$\n",
        "\n",
        "\n",
        "\n",
        "$$R^2 = 1- \\frac{\\sum_{i=1}^n (y_i-\\hat y_i)^2}{\\sum_{i=1}^n (y_i - \\bar y_i)^2}$$"
      ],
      "metadata": {
        "id": "pZU-y9cxhaMA"
      }
    },
    {
      "cell_type": "code",
      "source": [
        "def fit_lm(X: np.array, y: np.array) -> dict:\n",
        "  \"\"\"\n",
        "    Fits a basic linear model for closed form expressions for betas, output contains the following\n",
        "    { y_hat, y, RSS, betas }\n",
        "\n",
        "  \"\"\"\n",
        "\n",
        "  # check if X is appropriate shape. \n",
        "  if len(X.shape) != 2: \n",
        "    raise Exception(\"X is not an appropriate design matrix\")\n",
        "  \n",
        "  if y.shape[0] != X.shape[0]:\n",
        "    raise Exception(\"X, y pair is no appropriate\")\n",
        "\n",
        "  # calculate closed form expression\n",
        "  X_block = np.transpose(X) @ X \n",
        "  y_block = np.transpose(X) @ y\n",
        "  betas = np.linalg.inv(X_block) @ y_block\n",
        "  y_hat = X @ betas\n",
        "\n",
        "  # calculate SSE \n",
        "  n = X.shape[0]\n",
        "  RSS = np.sum((y - y_hat)**2) / (n-1) \n",
        "\n",
        "  rsquared = 1 - np.sum((y - y_hat)**2) / np.sum((y - np.mean(y))**2)\n",
        "\n",
        "  # results\n",
        "  results = {\n",
        "      'y':y, \n",
        "      'y_hat':y_hat, \n",
        "      'RSS': RSS, \n",
        "      'betas': betas,\n",
        "      'rsquared': rsquared\n",
        "  }\n",
        "\n",
        "  return results "
      ],
      "metadata": {
        "id": "iXbGzVNjhZAi"
      },
      "execution_count": null,
      "outputs": []
    },
    {
      "cell_type": "code",
      "source": [
        "# first example\n",
        "x,y = generate_lm_data(betas = np.array([0.5, 2.0]), \n",
        "                       n = 1000,\n",
        "                       sigma = 1.0)"
      ],
      "metadata": {
        "id": "CniYYWOYjhfK"
      },
      "execution_count": null,
      "outputs": []
    },
    {
      "cell_type": "code",
      "source": [
        "X = np.stack((x, np.ones_like(x)), axis=1)"
      ],
      "metadata": {
        "id": "56McPo2rjiHD"
      },
      "execution_count": null,
      "outputs": []
    },
    {
      "cell_type": "code",
      "source": [
        "lm = fit_lm(X,y)\n",
        "lm[\"betas\"]"
      ],
      "metadata": {
        "id": "UjR94jICjnIr",
        "colab": {
          "base_uri": "https://localhost:8080/"
        },
        "outputId": "50067162-0cbb-4dff-a0b1-bb9fe3169054"
      },
      "execution_count": null,
      "outputs": [
        {
          "output_type": "execute_result",
          "data": {
            "text/plain": [
              "array([2.00437203, 0.48404638])"
            ]
          },
          "metadata": {},
          "execution_count": 30
        }
      ]
    },
    {
      "cell_type": "code",
      "source": [
        "plt.scatter(x,y, s = 5, c = 'red', alpha = 0.25)\n",
        "plt.plot(x,lm['y_hat'], c = 'black')\n",
        "plt.title(\"Linear Model fit comparison\")"
      ],
      "metadata": {
        "colab": {
          "base_uri": "https://localhost:8080/",
          "height": 299
        },
        "id": "PLzpj7XYly2E",
        "outputId": "fc335c23-936c-4ad4-d67d-da5b1b5b81cf"
      },
      "execution_count": null,
      "outputs": [
        {
          "output_type": "execute_result",
          "data": {
            "text/plain": [
              "Text(0.5, 1.0, 'Linear Model fit comparison')"
            ]
          },
          "metadata": {},
          "execution_count": 24
        },
        {
          "output_type": "display_data",
          "data": {
            "text/plain": [
              "<Figure size 432x288 with 1 Axes>"
            ],
            "image/png": "[encoded data removed]"
          },
          "metadata": {
            "needs_background": "light"
          }
        }
      ]
    },
    {
      "cell_type": "code",
      "source": [
        "lm['RSS']"
      ],
      "metadata": {
        "colab": {
          "base_uri": "https://localhost:8080/"
        },
        "id": "9JAmxkQWqgTZ",
        "outputId": "a856bece-de26-4636-9607-42f5dca8190e"
      },
      "execution_count": null,
      "outputs": [
        {
          "output_type": "execute_result",
          "data": {
            "text/plain": [
              "1.0301664905656682"
            ]
          },
          "metadata": {},
          "execution_count": 123
        }
      ]
    },
    {
      "cell_type": "code",
      "source": [
        "lm['rsquared'] # proportion of variance explained by data. "
      ],
      "metadata": {
        "colab": {
          "base_uri": "https://localhost:8080/"
        },
        "id": "_QeomsMcqh2H",
        "outputId": "f8198fdb-3d67-4505-b4ee-a2b1cf581b1a"
      },
      "execution_count": null,
      "outputs": [
        {
          "output_type": "execute_result",
          "data": {
            "text/plain": [
              "0.9423521113333707"
            ]
          },
          "metadata": {},
          "execution_count": 130
        }
      ]
    },
    {
      "cell_type": "markdown",
      "source": [
        "# Linear Model Libraries\n",
        "\n",
        "They are generally good, but I personally don't trust them. If you work with a library long enough you will find out some idiosyncrasies that will generate some results that may hurt your analysis. Generally, GLM/LM models are well programmed lets use some of them. "
      ],
      "metadata": {
        "id": "lWaCD1618nMl"
      }
    },
    {
      "cell_type": "code",
      "source": [
        "import statsmodels.api as sm\n",
        "import statsmodels.formula.api as smf\n",
        "from scipy.stats import linregress"
      ],
      "metadata": {
        "id": "Jwo8nlAY8qDm"
      },
      "execution_count": null,
      "outputs": []
    },
    {
      "cell_type": "code",
      "source": [
        "\n",
        "# store in pandas df\n",
        "data = pd.DataFrame({'y': y, 'x':x}) \n",
        "\n",
        "#use stats models ols using R like formulas\n",
        "Model = smf.ols(\"y ~ x\", data = data).fit()\n",
        "\n",
        "# display results...\n",
        "print(Model.summary()) # utter chaos. \n",
        "print('\\n RSE:', np.round(Model.ssr/Model.df_resid,2))\n",
        "# learn to understand equations/ models, rather than outputs, both the output of this model \n",
        "# and my function above here has the same beta coefficient fit. "
      ],
      "metadata": {
        "colab": {
          "base_uri": "https://localhost:8080/"
        },
        "id": "pqZT3s0n9VEh",
        "outputId": "572cc155-ba01-4700-c220-9977e1b3752f"
      },
      "execution_count": null,
      "outputs": [
        {
          "output_type": "stream",
          "name": "stdout",
          "text": [
            "                            OLS Regression Results                            \n",
            "==============================================================================\n",
            "Dep. Variable:                      y   R-squared:                       0.936\n",
            "Model:                            OLS   Adj. R-squared:                  0.936\n",
            "Method:                 Least Squares   F-statistic:                 1.467e+04\n",
            "Date:                Tue, 27 Sep 2022   Prob (F-statistic):               0.00\n",
            "Time:                        15:40:08   Log-Likelihood:                -1459.7\n",
            "No. Observations:                1000   AIC:                             2923.\n",
            "Df Residuals:                     998   BIC:                             2933.\n",
            "Df Model:                           1                                         \n",
            "Covariance Type:            nonrobust                                         \n",
            "==============================================================================\n",
            "                 coef    std err          t      P>|t|      [0.025      0.975]\n",
            "------------------------------------------------------------------------------\n",
            "Intercept      0.4840      0.042     11.553      0.000       0.402       0.566\n",
            "x              2.0044      0.017    121.138      0.000       1.972       2.037\n",
            "==============================================================================\n",
            "Omnibus:                        0.203   Durbin-Watson:                   1.917\n",
            "Prob(Omnibus):                  0.903   Jarque-Bera (JB):                0.285\n",
            "Skew:                          -0.013   Prob(JB):                        0.867\n",
            "Kurtosis:                       2.921   Cond. No.                         3.43\n",
            "==============================================================================\n",
            "\n",
            "Notes:\n",
            "[1] Standard Errors assume that the covariance matrix of the errors is correctly specified.\n",
            "\n",
            " RSE: 1.09\n"
          ]
        }
      ]
    },
    {
      "cell_type": "code",
      "source": [
        "lm['betas']"
      ],
      "metadata": {
        "colab": {
          "base_uri": "https://localhost:8080/"
        },
        "id": "hJDkU-Df-sNX",
        "outputId": "a2a312b7-287d-4233-c863-23c0fc532b7d"
      },
      "execution_count": null,
      "outputs": [
        {
          "output_type": "execute_result",
          "data": {
            "text/plain": [
              "array([2.00437203, 0.48404638])"
            ]
          },
          "metadata": {},
          "execution_count": 28
        }
      ]
    },
    {
      "cell_type": "code",
      "source": [],
      "metadata": {
        "id": "LRH55EJkmwKs"
      },
      "execution_count": null,
      "outputs": []
    }
  ]
}